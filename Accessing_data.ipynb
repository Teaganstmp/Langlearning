{
  "cells": [
    {
      "cell_type": "markdown",
      "metadata": {
        "id": "view-in-github",
        "colab_type": "text"
      },
      "source": [
        "<a href=\"https://colab.research.google.com/github/Teaganstmp/Langlearning/blob/main/Accessing_data.ipynb\" target=\"_parent\"><img src=\"https://colab.research.google.com/assets/colab-badge.svg\" alt=\"Open In Colab\"/></a>"
      ]
    },
    {
      "cell_type": "markdown",
      "id": "039f0860-f34d-4219-bead-5293df0ee98e",
      "metadata": {
        "id": "039f0860-f34d-4219-bead-5293df0ee98e"
      },
      "source": [
        "# Accessing data in Python\n",
        "\n",
        "This notebook is going to be a collection of different techniques for accessing data from Python. We are going to talk about:\n",
        "* basic functions for opening and accessing data stored in files\n",
        "* some preprocessing techniques\n",
        "* the pandas package, which lets you access spreadsheet data\n",
        "* different text encodings"
      ]
    },
    {
      "cell_type": "markdown",
      "id": "f8c1144c-d221-4a3e-9cc1-5b2b85259095",
      "metadata": {
        "id": "f8c1144c-d221-4a3e-9cc1-5b2b85259095"
      },
      "source": [
        "# Accessing files in Python\n",
        "## Reading files\n",
        "\n",
        "Accessing files in Python is relatively easy. Here is how to do it.\n",
        "\n",
        "As an example of a file to read, we will use a relatively small, unannotated corpus from Project Gutenberg, http://www.gutenberg.org/wiki/Main_Page\n",
        "Project Gutenberg is an online collection of texts whose copyright has expired. It contains texts in many languages.\n",
        "\n",
        "We will work with the Three Musketeers by Alexandre Dumas. We first obtain the file:"
      ]
    },
    {
      "cell_type": "code",
      "execution_count": null,
      "id": "88b98a85-d076-4c23-915f-cacadea5cef3",
      "metadata": {
        "id": "88b98a85-d076-4c23-915f-cacadea5cef3",
        "outputId": "81a28bab-12b2-4918-c83b-5122852bba67",
        "colab": {
          "base_uri": "https://localhost:8080/"
        }
      },
      "outputs": [
        {
          "output_type": "stream",
          "name": "stdout",
          "text": [
            "--2024-09-17 16:28:51--  https://www.gutenberg.org/files/1257/1257-0.txt\n",
            "Resolving www.gutenberg.org (www.gutenberg.org)... 152.19.134.47, 2610:28:3090:3000:0:bad:cafe:47\n",
            "Connecting to www.gutenberg.org (www.gutenberg.org)|152.19.134.47|:443... connected.\n",
            "HTTP request sent, awaiting response... 200 OK\n",
            "Length: 1388685 (1.3M) [text/plain]\n",
            "Saving to: ‘1257-0.txt’\n",
            "\n",
            "1257-0.txt          100%[===================>]   1.32M  6.18MB/s    in 0.2s    \n",
            "\n",
            "2024-09-17 16:28:52 (6.18 MB/s) - ‘1257-0.txt’ saved [1388685/1388685]\n",
            "\n"
          ]
        }
      ],
      "source": [
        "!wget https://www.gutenberg.org/files/1257/1257-0.txt"
      ]
    },
    {
      "cell_type": "markdown",
      "id": "d959c0ae-9827-4857-b6b2-8ba7462e35eb",
      "metadata": {
        "id": "d959c0ae-9827-4857-b6b2-8ba7462e35eb"
      },
      "source": [
        "This results in you having a file called 1257-0.txt in the same directory as this notebook. The package `os` lets you check that the file is there:"
      ]
    },
    {
      "cell_type": "code",
      "execution_count": null,
      "id": "ebe669d3-3037-4cdf-a1b7-7eed52055d8f",
      "metadata": {
        "tags": [],
        "id": "ebe669d3-3037-4cdf-a1b7-7eed52055d8f",
        "outputId": "0b7dc7f2-2d86-4e7d-ec2a-604465461a7c",
        "colab": {
          "base_uri": "https://localhost:8080/"
        }
      },
      "outputs": [
        {
          "output_type": "stream",
          "name": "stdout",
          "text": [
            "We're set, file 1257-0.txt is present.\n"
          ]
        }
      ],
      "source": [
        "import os\n",
        "\n",
        "if os.path.exists(\"1257-0.txt\"):\n",
        "    print(\"We're set, file 1257-0.txt is present.\")\n",
        "else:\n",
        "    print(\"Did not find the file 1257-0.txt.\")"
      ]
    },
    {
      "cell_type": "markdown",
      "id": "7205e7fb-be60-4b41-8035-401f5d5cc147",
      "metadata": {
        "id": "7205e7fb-be60-4b41-8035-401f5d5cc147"
      },
      "source": [
        "Now we can access the file. We read the very first line:"
      ]
    },
    {
      "cell_type": "code",
      "execution_count": null,
      "id": "cc0b3c3d-ee1e-409a-a428-a109471ab64b",
      "metadata": {
        "tags": [],
        "id": "cc0b3c3d-ee1e-409a-a428-a109471ab64b",
        "outputId": "2de31e9e-c69f-43d2-f1fc-368931e07071",
        "colab": {
          "base_uri": "https://localhost:8080/"
        }
      },
      "outputs": [
        {
          "output_type": "stream",
          "name": "stdout",
          "text": [
            "﻿The Project Gutenberg eBook of The Three Musketeers, by Alexandre Dumas, Père\n",
            "\n"
          ]
        }
      ],
      "source": [
        "with open(\"1257-0.txt\") as f:\n",
        "    textline = f.readline()\n",
        "    print(textline)"
      ]
    },
    {
      "cell_type": "markdown",
      "id": "193223d5-2a29-4371-9b43-08396a618acf",
      "metadata": {
        "id": "193223d5-2a29-4371-9b43-08396a618acf"
      },
      "source": [
        "`open(\"1257-0.txt\")` is a Python command. The function `open` takes as its argument a file name, which may include directory information.\n",
        "\n",
        "It returns an object, which we have stored in the variable `f`. This object functions as a kind of \"bookmark\" into the file. When we first open it, the bookmark is at the beginning of the file, which is why, when we use the object's method `readline()`, we get the very first line of the file.\n",
        "\n",
        "The file remains *open* (accessible) throughout the indented block after `with`. As you exit the block, the file is *closed*, and you can no longer access it.\n",
        "\n",
        "Let's look at the type of data that the object in `f` is:"
      ]
    },
    {
      "cell_type": "code",
      "execution_count": null,
      "id": "bf8df6f0-c68c-48ad-82e3-ceedd4f3c9c5",
      "metadata": {
        "tags": [],
        "id": "bf8df6f0-c68c-48ad-82e3-ceedd4f3c9c5",
        "outputId": "d069b63b-be83-4076-d540-5503f87f1806",
        "colab": {
          "base_uri": "https://localhost:8080/"
        }
      },
      "outputs": [
        {
          "output_type": "stream",
          "name": "stdout",
          "text": [
            "f is an object of type <class '_io.TextIOWrapper'>\n"
          ]
        }
      ],
      "source": [
        "with open(\"1257-0.txt\") as f:\n",
        "    print(\"f is an object of type\", type(f))"
      ]
    },
    {
      "cell_type": "markdown",
      "id": "0abf50ff-61b6-4c30-8790-954820f238c3",
      "metadata": {
        "id": "0abf50ff-61b6-4c30-8790-954820f238c3"
      },
      "source": [
        "If you call it `readline()` repeatedly, it keeps reading the next line, and the next after that: The \"bookmark\" object that is `f` keeps advancing through the file."
      ]
    },
    {
      "cell_type": "code",
      "execution_count": null,
      "id": "7b784186-5f13-4ccd-abc1-4021149ae50d",
      "metadata": {
        "tags": [],
        "id": "7b784186-5f13-4ccd-abc1-4021149ae50d",
        "outputId": "3a97d8ce-c147-4f9a-bdf8-93f1a63b3630",
        "colab": {
          "base_uri": "https://localhost:8080/"
        }
      },
      "outputs": [
        {
          "output_type": "stream",
          "name": "stdout",
          "text": [
            "﻿The Project Gutenberg eBook of The Three Musketeers, by Alexandre Dumas, Père\n",
            "\n",
            "\n",
            "\n",
            "This eBook is for the use of anyone anywhere in the United States and\n",
            "\n"
          ]
        }
      ],
      "source": [
        "with open(\"1257-0.txt\") as f:\n",
        "    textline = f.readline()\n",
        "    print(textline)\n",
        "    textline = f.readline()\n",
        "    print(textline)\n",
        "    textline = f.readline()\n",
        "    print(textline)\n"
      ]
    },
    {
      "cell_type": "markdown",
      "id": "3c76211a-0a78-4203-be00-f9f2c8e6a9ea",
      "metadata": {
        "id": "3c76211a-0a78-4203-be00-f9f2c8e6a9ea"
      },
      "source": [
        "The object in `f` is an iterable: You can iterate through the lines of the file with a for-loop.\n",
        "\n",
        "In the demo, I've kept a counter and broken the loop after a few lines, so we don't get too much output."
      ]
    },
    {
      "cell_type": "code",
      "execution_count": null,
      "id": "cc3c3326-d2ff-4f14-a000-ee644fc86a5b",
      "metadata": {
        "tags": [],
        "id": "cc3c3326-d2ff-4f14-a000-ee644fc86a5b",
        "outputId": "64011f38-21ac-4125-94fa-98ed8beb96d9",
        "colab": {
          "base_uri": "https://localhost:8080/"
        }
      },
      "outputs": [
        {
          "output_type": "stream",
          "name": "stdout",
          "text": [
            "﻿The Project Gutenberg eBook of The Three Musketeers, by Alexandre Dumas, Père\n",
            "\n",
            "This eBook is for the use of anyone anywhere in the United States and\n",
            "most other parts of the world at no cost and with almost no restrictions\n",
            "whatsoever. You may copy it, give it away or re-use it under the terms\n",
            "of the Project Gutenberg License included with this eBook or online at\n",
            "www.gutenberg.org. If you are not located in the United States, you\n",
            "will have to check the laws of the country where you are located before\n",
            "using this eBook.\n",
            "\n",
            "Title: The Three Musketeers\n",
            "\n",
            "Author: Alexandre Dumas, Père\n",
            "\n",
            "Release Date: March 01, 1998 [eBook #1257]\n",
            "[Most recently updated: June 28, 2023]\n",
            "\n",
            "Language: English\n",
            "\n",
            "Produced by: John P. Roberts III, Roger Labbe, Scott David Gray, Sue Asscher, Anita Martin, David Muller and David Widger\n",
            "\n"
          ]
        }
      ],
      "source": [
        "\n",
        "with open(\"1257-0.txt\") as f:\n",
        "    linecounter = 0\n",
        "    for line in f:\n",
        "        # each line that we read ends with a newline.\n",
        "        # the print() command by default adds its own newline at the end.\n",
        "        # so let's keep print() from doing that,\n",
        "        # so we don't see two newlines at the end of each line\n",
        "        print(line, end = \"\")\n",
        "\n",
        "        # let's stop printing after 20 lines\n",
        "        linecounter += 1\n",
        "        if linecounter > 20:\n",
        "            break\n"
      ]
    },
    {
      "cell_type": "markdown",
      "id": "8f5457cc-6ce6-479e-92da-bd425bedd390",
      "metadata": {
        "id": "8f5457cc-6ce6-479e-92da-bd425bedd390"
      },
      "source": [
        "If you are certain that the file does not contain a whole lot of data, you can also read the whole file into a single string variable, like this:"
      ]
    },
    {
      "cell_type": "code",
      "execution_count": null,
      "id": "07d6ddab-716d-454d-b86d-3482999deac2",
      "metadata": {
        "tags": [],
        "id": "07d6ddab-716d-454d-b86d-3482999deac2",
        "outputId": "cd61156d-13c7-48f6-e390-4f87428518f8",
        "colab": {
          "base_uri": "https://localhost:8080/"
        }
      },
      "outputs": [
        {
          "output_type": "execute_result",
          "data": {
            "text/plain": [
              "1317148"
            ]
          },
          "metadata": {},
          "execution_count": 49
        }
      ],
      "source": [
        "with open(\"1257-0.txt\") as f:\n",
        "    wholetext = f.read()\n",
        "\n",
        "len(wholetext)"
      ]
    },
    {
      "cell_type": "markdown",
      "id": "5389dd70-334e-4d17-b309-96f908849c80",
      "metadata": {
        "id": "5389dd70-334e-4d17-b309-96f908849c80"
      },
      "source": [
        "##  Writing files\n",
        "\n",
        "Here is how you write to a file in Python. Again, we make a file object with “open”. Only this time we give two arguments.\n",
        "The second one is “w” for “write”. (There is also \"a\" for append. While \"w\" overwrites whatever was in the file before, \"a\" attaches new material to the end.)\n",
        "\n",
        " So we have to decide at the time when we open a file whether we want to read it or write to it. You then write into the file using the \"print\" command, but with the additional parameter ``file = f``."
      ]
    },
    {
      "cell_type": "code",
      "execution_count": null,
      "id": "71270ae2-25d4-4c9a-9a65-4ad233ea0b02",
      "metadata": {
        "tags": [],
        "id": "71270ae2-25d4-4c9a-9a65-4ad233ea0b02"
      },
      "outputs": [],
      "source": [
        "# This following command makes a file named 'myoutfile.txt'\n",
        "# in the directory where the colab notebook is.\n",
        "# I chose to name it '.txt', I could also have chosen\n",
        "# another extension, but .txt is good because it's plain text.\n",
        "with open(\"myoutfile.txt\", \"w\") as outf:\n",
        "\n",
        "    # We use the \"print\" command to write to a file, but with the additional\n",
        "    # parameter file=outf.\n",
        "    # Note that outf is the variable in which we put the file object.\n",
        "    # If I had named the file object \"bob\",\n",
        "    # it would have been \"print(..., file = bob)\"\n",
        "\n",
        "    print(\"Hello\", file=outf)\n",
        "    print(\"Writing another line to the file.\", file = outf)\n",
        "    print(\"Here’s a number:\", 5, file= outf)\n",
        "\n"
      ]
    },
    {
      "cell_type": "markdown",
      "id": "23803e64-0b3a-4ccc-a337-b5e6c2290a3e",
      "metadata": {
        "id": "23803e64-0b3a-4ccc-a337-b5e6c2290a3e"
      },
      "source": [
        "Is the file there now?"
      ]
    },
    {
      "cell_type": "code",
      "execution_count": null,
      "id": "9a41443b-de80-4a37-bee0-ad38b34c37b6",
      "metadata": {
        "tags": [],
        "id": "9a41443b-de80-4a37-bee0-ad38b34c37b6",
        "outputId": "7ab59e13-328f-4c1e-9cb5-8e2de04e0b24",
        "colab": {
          "base_uri": "https://localhost:8080/"
        }
      },
      "outputs": [
        {
          "output_type": "stream",
          "name": "stdout",
          "text": [
            "myoutfile.txt exists now.\n"
          ]
        }
      ],
      "source": [
        "if os.path.exists(\"myoutfile.txt\"):\n",
        "    print(\"myoutfile.txt exists now.\")\n",
        "else:\n",
        "    print(\"myoutfile.txt not found\")"
      ]
    },
    {
      "cell_type": "code",
      "execution_count": null,
      "id": "69c913a4-9023-4d25-ba49-571a50a4c186",
      "metadata": {
        "tags": [],
        "id": "69c913a4-9023-4d25-ba49-571a50a4c186",
        "outputId": "a1ac4c2c-e0c4-47f8-cdb0-5e1b1ae01d83",
        "colab": {
          "base_uri": "https://localhost:8080/"
        }
      },
      "outputs": [
        {
          "output_type": "stream",
          "name": "stdout",
          "text": [
            "Hello\n",
            "Writing another line to the file.\n",
            "Here’s a number: 5\n",
            "\n"
          ]
        }
      ],
      "source": [
        "# and we can read its content back in\n",
        "with open(\"myoutfile.txt\") as f:\n",
        "    contents = f.read()\n",
        "    print(contents)"
      ]
    },
    {
      "cell_type": "markdown",
      "id": "f31e4dea-1bc3-4d66-93dc-b39cd0d1f69f",
      "metadata": {
        "id": "f31e4dea-1bc3-4d66-93dc-b39cd0d1f69f"
      },
      "source": [
        "## Accessing multiple files\n",
        "\n",
        "Your data will often come in multiple files. Here are ways to access it.\n",
        "\n",
        "First, we need some example data. Here is some code that makes a few directories and makes a few files in them -- feel free not to delve into the details of this."
      ]
    },
    {
      "cell_type": "code",
      "execution_count": null,
      "id": "b1f5f7fa-c286-4ef7-9594-dccccf06d6bd",
      "metadata": {
        "tags": [],
        "id": "b1f5f7fa-c286-4ef7-9594-dccccf06d6bd"
      },
      "outputs": [],
      "source": [
        "import os\n",
        "\n",
        "# making some directories\n",
        "if not os.path.exists(\"testdir\"):\n",
        "    os.makedirs(\"testdir\")\n",
        "if not os.path.exists(\"testdir/d1\"):\n",
        "    os.makedirs(\"testdir/d1\")\n",
        "if not os.path.exists(\"testdir/d2\"):\n",
        "    os.makedirs(\"testdir/d2\")\n",
        "if not os.path.exists(\"testdir/d2/d21\"):\n",
        "    os.makedirs(\"testdir/d2/d21\")\n",
        "# making some files\n",
        "filenames = [\"testdir/01.txt\", \"testdir/02.txt\", \"testdir/d1/11.txt\",\n",
        "             \"testdir/d2/21.txt\", \"testdir/d2/22.txt\", \"testdir/d2/d21/211.txt\"]\n",
        "index = 0\n",
        "for fname in filenames:\n",
        "    with open(fname, \"w\") as outf:\n",
        "        print(\"a\" + str(index), file= outf)\n",
        "        index += 1\n"
      ]
    },
    {
      "cell_type": "markdown",
      "id": "00e7d001-4369-4a61-95ee-5789fee830c8",
      "metadata": {
        "id": "00e7d001-4369-4a61-95ee-5789fee830c8"
      },
      "source": [
        "Now we are ready to access multiple files. First, let's access all files in the new directory \"testdir\" -- there should be two of them, named 01.txt and 02.txt. We use `os.listdir` for this. As you see, this returns the contents of the directory, filenames as well as subdirectories."
      ]
    },
    {
      "cell_type": "code",
      "execution_count": null,
      "id": "0326a3d7-ef95-415e-8949-cf8835f8c178",
      "metadata": {
        "tags": [],
        "id": "0326a3d7-ef95-415e-8949-cf8835f8c178",
        "outputId": "493378a9-483b-437e-f081-32287f5fda3d",
        "colab": {
          "base_uri": "https://localhost:8080/"
        }
      },
      "outputs": [
        {
          "output_type": "stream",
          "name": "stdout",
          "text": [
            "Contents of the directory: ['02.txt', 'd2', 'd1', '01.txt']\n",
            "contents of 02.txt : a1\n",
            "\n",
            "contents of 01.txt : a0\n",
            "\n"
          ]
        }
      ],
      "source": [
        "import os\n",
        "\n",
        "directoryname = \"testdir\"\n",
        "\n",
        "# show contents of this directory\n",
        "print(\"Contents of the directory:\", os.listdir(directoryname))\n",
        "\n",
        "# iterate over contents of the directory\n",
        "for entry in os.listdir(directoryname):\n",
        "    # the full name of this entry is\n",
        "    # directoryname plus name of this entry\n",
        "    full_name = os.path.join(directoryname, entry)\n",
        "    # is this a file, rather than a directory?\n",
        "    if os.path.isfile(full_name):\n",
        "        # yes, this is a file. read it.\n",
        "        with open(full_name) as f:\n",
        "            # we read the file contents in one go,\n",
        "            # and print them\n",
        "            # -- but only because we know there's very little in these files!\n",
        "            contents = f.read()\n",
        "            print(\"contents of\", entry, \":\", contents)"
      ]
    },
    {
      "cell_type": "markdown",
      "id": "ede7cf3b-7bad-4c4b-a1f5-e720944913f2",
      "metadata": {
        "id": "ede7cf3b-7bad-4c4b-a1f5-e720944913f2"
      },
      "source": [
        "When you have a deeper structure with directories and subdirectories and sub-subdirectories, with files in all of them, there is another function that is useful to access all of the files, across all the directories and subdirectories:"
      ]
    },
    {
      "cell_type": "code",
      "execution_count": null,
      "id": "c5e3c671-a5cc-408e-8164-73d39c54635b",
      "metadata": {
        "tags": [],
        "id": "c5e3c671-a5cc-408e-8164-73d39c54635b",
        "outputId": "47e7abb3-0c39-4554-ef3b-bad2cf047a8a",
        "colab": {
          "base_uri": "https://localhost:8080/"
        }
      },
      "outputs": [
        {
          "output_type": "stream",
          "name": "stdout",
          "text": [
            "Directory: testdir subdirectories: ['d2', 'd1'] files: ['02.txt', '01.txt']\n",
            "Directory: testdir/d2 subdirectories: ['d21'] files: ['21.txt', '22.txt']\n",
            "Directory: testdir/d2/d21 subdirectories: [] files: ['211.txt']\n",
            "Directory: testdir/d1 subdirectories: [] files: ['11.txt']\n"
          ]
        }
      ],
      "source": [
        "import os\n",
        "\n",
        "starting_directoryname = \"testdir\"\n",
        "\n",
        "# os.walk iterates over triples (3-tuples) of items\n",
        "# The first is the name of a directory,\n",
        "# the second is a list of names of all its subdirectories,\n",
        "# the third is a list of names of all files in this directory\n",
        "for directoryname, subdirs, filenames in os.walk(starting_directoryname):\n",
        "    print(\"Directory:\", directoryname, \"subdirectories:\", subdirs, \"files:\", filenames)\n"
      ]
    },
    {
      "cell_type": "code",
      "execution_count": null,
      "id": "e1f69a07-934e-4e27-aba9-624bd1272603",
      "metadata": {
        "tags": [],
        "id": "e1f69a07-934e-4e27-aba9-624bd1272603",
        "outputId": "bae044d4-4cb9-499c-e741-dc19db5e895f",
        "colab": {
          "base_uri": "https://localhost:8080/"
        }
      },
      "outputs": [
        {
          "output_type": "stream",
          "name": "stdout",
          "text": [
            "contents of 02.txt in testdir : a1\n",
            "\n",
            "contents of 01.txt in testdir : a0\n",
            "\n",
            "contents of 21.txt in testdir/d2 : a3\n",
            "\n",
            "contents of 22.txt in testdir/d2 : a4\n",
            "\n",
            "contents of 211.txt in testdir/d2/d21 : a5\n",
            "\n",
            "contents of 11.txt in testdir/d1 : a2\n",
            "\n"
          ]
        }
      ],
      "source": [
        "# reading all the files in all these directories:\n",
        "# iterating over all directories and their contents\n",
        "for directoryname, subdirs, filenames in os.walk(starting_directoryname):\n",
        "    # iterating over the files in the current directories\n",
        "    for filename in filenames:\n",
        "        # the full name of this entry is\n",
        "        # directoryname plus name of this entry\n",
        "        full_name = os.path.join(directoryname, filename)\n",
        "        with open(full_name) as f:\n",
        "            # we read the file contents in one go,\n",
        "            # and print them\n",
        "            # -- but only because we know there's very little in these files!\n",
        "            contents = f.read()\n",
        "            print(\"contents of\", filename, \"in\", directoryname, \":\", contents)"
      ]
    },
    {
      "cell_type": "markdown",
      "id": "b563f7c3-2d17-454b-8903-a63bd6195e6f",
      "metadata": {
        "id": "b563f7c3-2d17-454b-8903-a63bd6195e6f"
      },
      "source": [
        "# Some preprocessing techniques\n",
        "\n",
        "## Preprocessing methods available in the NLTK\n",
        "\n",
        "The Natural Language Toolkit comes with several preprocessing methods, though as far as I know, mostly for English.\n",
        "\n",
        "As a reminder, `word_tokenize()` splits a string of text into words, where punctuation symbols are split off into separate tokens. We apply it to the opening stanza of Lewis Carroll's \"Hunting of the Snark\":"
      ]
    },
    {
      "cell_type": "code",
      "execution_count": null,
      "id": "60dfe1da-5701-4878-aff8-d2d0237073b2",
      "metadata": {
        "id": "60dfe1da-5701-4878-aff8-d2d0237073b2",
        "outputId": "423e31bb-ab3c-4f6c-c9c6-ae7207eb2313",
        "colab": {
          "base_uri": "https://localhost:8080/"
        }
      },
      "outputs": [
        {
          "output_type": "stream",
          "name": "stderr",
          "text": [
            "[nltk_data] Downloading package punkt to /root/nltk_data...\n",
            "[nltk_data]   Package punkt is already up-to-date!\n"
          ]
        },
        {
          "output_type": "execute_result",
          "data": {
            "text/plain": [
              "['``',\n",
              " 'Just',\n",
              " 'the',\n",
              " 'place',\n",
              " 'for',\n",
              " 'a',\n",
              " 'Snark',\n",
              " '!',\n",
              " \"''\",\n",
              " 'the',\n",
              " 'Bellman',\n",
              " 'cried',\n",
              " ',',\n",
              " 'As',\n",
              " 'he',\n",
              " 'landed',\n",
              " 'his',\n",
              " 'crew',\n",
              " 'with',\n",
              " 'care',\n",
              " ';',\n",
              " 'Supporting',\n",
              " 'each',\n",
              " 'man',\n",
              " 'on',\n",
              " 'the',\n",
              " 'top',\n",
              " 'of',\n",
              " 'the',\n",
              " 'tide',\n",
              " 'By',\n",
              " 'a',\n",
              " 'finger',\n",
              " 'entwined',\n",
              " 'in',\n",
              " 'his',\n",
              " 'hair',\n",
              " '.']"
            ]
          },
          "metadata": {},
          "execution_count": 57
        }
      ],
      "source": [
        "import nltk\n",
        "nltk.download(\"punkt\")\n",
        "\n",
        "stanza = \"\"\" \"Just the place for a Snark!\" the Bellman cried,\n",
        "   As he landed his crew with care;\n",
        "Supporting each man on the top of the tide\n",
        "   By a finger entwined in his hair.\"\"\"\n",
        "nltk.word_tokenize(stanza)"
      ]
    },
    {
      "cell_type": "markdown",
      "id": "4bbfcc08-bf89-4ae3-ab5c-4096aac80463",
      "metadata": {
        "id": "4bbfcc08-bf89-4ae3-ab5c-4096aac80463"
      },
      "source": [
        "Stopwords are frequent words that are often excluded from text analysis. The Natural Language Toolkit comes with stopword lists for several languages. Here is how you obtain the one for English:"
      ]
    },
    {
      "cell_type": "code",
      "execution_count": null,
      "id": "7547e14a-d151-474c-b117-6303481f4238",
      "metadata": {
        "id": "7547e14a-d151-474c-b117-6303481f4238",
        "outputId": "0eeaaf40-9b30-4ef2-f7cf-c83a6fe4b998",
        "colab": {
          "base_uri": "https://localhost:8080/"
        }
      },
      "outputs": [
        {
          "output_type": "stream",
          "name": "stderr",
          "text": [
            "[nltk_data] Downloading package stopwords to /root/nltk_data...\n",
            "[nltk_data]   Package stopwords is already up-to-date!\n"
          ]
        },
        {
          "output_type": "execute_result",
          "data": {
            "text/plain": [
              "['i',\n",
              " 'me',\n",
              " 'my',\n",
              " 'myself',\n",
              " 'we',\n",
              " 'our',\n",
              " 'ours',\n",
              " 'ourselves',\n",
              " 'you',\n",
              " \"you're\",\n",
              " \"you've\",\n",
              " \"you'll\",\n",
              " \"you'd\",\n",
              " 'your',\n",
              " 'yours',\n",
              " 'yourself',\n",
              " 'yourselves',\n",
              " 'he',\n",
              " 'him',\n",
              " 'his']"
            ]
          },
          "metadata": {},
          "execution_count": 58
        }
      ],
      "source": [
        "import nltk\n",
        "nltk.download('stopwords')\n",
        "stopwords = nltk.corpus.stopwords.words(\"english\")\n",
        "stopwords[:20]"
      ]
    },
    {
      "cell_type": "markdown",
      "id": "d95aa124-922a-4a57-a763-e82052741d0b",
      "metadata": {
        "id": "d95aa124-922a-4a57-a763-e82052741d0b"
      },
      "source": [
        "The usual use for stopwords is to tokenize your text into a list of words, then remove the words that are also on the stopwords list."
      ]
    },
    {
      "cell_type": "markdown",
      "id": "894fe499-083c-4aff-9a80-fe556302dddb",
      "metadata": {
        "id": "894fe499-083c-4aff-9a80-fe556302dddb"
      },
      "source": [
        "The Natural Language Toolkit also contains a part-of-speech tagger for English. Here is an example of how it works:"
      ]
    },
    {
      "cell_type": "code",
      "execution_count": null,
      "id": "cc206025-6a73-41fb-bf89-7cbf4b8e8e23",
      "metadata": {
        "id": "cc206025-6a73-41fb-bf89-7cbf4b8e8e23",
        "outputId": "e8ebb400-2fac-438e-b801-1a3ba2c65625",
        "colab": {
          "base_uri": "https://localhost:8080/"
        }
      },
      "outputs": [
        {
          "output_type": "stream",
          "name": "stderr",
          "text": [
            "[nltk_data] Downloading package averaged_perceptron_tagger to\n",
            "[nltk_data]     /root/nltk_data...\n",
            "[nltk_data]   Package averaged_perceptron_tagger is already up-to-\n",
            "[nltk_data]       date!\n"
          ]
        },
        {
          "output_type": "execute_result",
          "data": {
            "text/plain": [
              "[('``', '``'),\n",
              " ('Just', 'RB'),\n",
              " ('the', 'DT'),\n",
              " ('place', 'NN'),\n",
              " ('for', 'IN'),\n",
              " ('a', 'DT'),\n",
              " ('Snark', 'NN'),\n",
              " ('!', '.'),\n",
              " (\"''\", \"''\"),\n",
              " ('the', 'DT'),\n",
              " ('Bellman', 'NNP'),\n",
              " ('cried', 'VBD'),\n",
              " (',', ','),\n",
              " ('As', 'IN'),\n",
              " ('he', 'PRP'),\n",
              " ('landed', 'VBD'),\n",
              " ('his', 'PRP$'),\n",
              " ('crew', 'NN'),\n",
              " ('with', 'IN'),\n",
              " ('care', 'NN'),\n",
              " (';', ':'),\n",
              " ('Supporting', 'VBG'),\n",
              " ('each', 'DT'),\n",
              " ('man', 'NN'),\n",
              " ('on', 'IN'),\n",
              " ('the', 'DT'),\n",
              " ('top', 'NN'),\n",
              " ('of', 'IN'),\n",
              " ('the', 'DT'),\n",
              " ('tide', 'NN'),\n",
              " ('By', 'IN'),\n",
              " ('a', 'DT'),\n",
              " ('finger', 'NN'),\n",
              " ('entwined', 'VBN'),\n",
              " ('in', 'IN'),\n",
              " ('his', 'PRP$'),\n",
              " ('hair', 'NN'),\n",
              " ('.', '.')]"
            ]
          },
          "metadata": {},
          "execution_count": 59
        }
      ],
      "source": [
        "import nltk\n",
        "nltk.download('averaged_perceptron_tagger')\n",
        "words = nltk.word_tokenize(stanza)\n",
        "nltk.pos_tag(words)"
      ]
    },
    {
      "cell_type": "markdown",
      "id": "b89c7db0-348a-467f-b8f4-5d0ba7c79101",
      "metadata": {
        "id": "b89c7db0-348a-467f-b8f4-5d0ba7c79101"
      },
      "source": [
        "This part-of-speech tagger uses the Penn Treebank set of tags, which is widely used. Here is a list of all the tags: https://www.ling.upenn.edu/courses/Fall_2003/ling001/penn_treebank_pos.html\n",
        "\n",
        "The tags are quite fine-grained, distinguishing for example a singular noun (NN) from a plural noun (NNS), a proper noun (NNP) and a plural proper noun (NNPS). Likewise, there is a tag for verbs in their base form (VB), third person singular (VBZ), gerund (VBG), past tense (VBD), and past participle (VBN). But you may notice that all noun tags started with \"NN\", and all verb tags with \"VB\". This is a design feature of the Penn tagset: They use fine-grained tags, but if you only look at the first two letters of each tag, you get coarse-grained tags.\n",
        "\n",
        "For more information on part-of-speech tagging, see the NLTK book: https://www.nltk.org/book_1ed/ch05.html\n"
      ]
    },
    {
      "cell_type": "markdown",
      "id": "e36cd014-cb84-4076-a581-3e004ec70de3",
      "metadata": {
        "id": "e36cd014-cb84-4076-a581-3e004ec70de3"
      },
      "source": [
        "The NLTK part-of-speech tagger looks at words *in context*. Here is an example of two sentences, one with \"object\" as a verb and one with \"object\" as a noun. As you can see, the two get tagged differently:"
      ]
    },
    {
      "cell_type": "code",
      "execution_count": null,
      "id": "b37589a0-9ddf-4af2-96b7-698dc36ed087",
      "metadata": {
        "id": "b37589a0-9ddf-4af2-96b7-698dc36ed087",
        "outputId": "78fc9ae4-961e-4ab2-f35b-bdf2d70f22e8",
        "colab": {
          "base_uri": "https://localhost:8080/"
        }
      },
      "outputs": [
        {
          "output_type": "execute_result",
          "data": {
            "text/plain": [
              "[('I', 'PRP'), ('want', 'VBP'), ('to', 'TO'), ('object', 'VB')]"
            ]
          },
          "metadata": {},
          "execution_count": 60
        }
      ],
      "source": [
        "words = nltk.word_tokenize(\"I want to object\")\n",
        "nltk.pos_tag(words)"
      ]
    },
    {
      "cell_type": "code",
      "execution_count": null,
      "id": "87b56d21-27b4-46ad-aaf3-fc108b11c888",
      "metadata": {
        "id": "87b56d21-27b4-46ad-aaf3-fc108b11c888",
        "outputId": "2f730096-515b-4f42-bcfd-ebdb350f791c",
        "colab": {
          "base_uri": "https://localhost:8080/"
        }
      },
      "outputs": [
        {
          "output_type": "execute_result",
          "data": {
            "text/plain": [
              "[('I', 'PRP'), ('found', 'VBD'), ('an', 'DT'), ('object', 'NN')]"
            ]
          },
          "metadata": {},
          "execution_count": 61
        }
      ],
      "source": [
        "words = nltk.word_tokenize(\"I found an object\")\n",
        "nltk.pos_tag(words)"
      ]
    },
    {
      "cell_type": "markdown",
      "id": "9d3d6ac2-a380-49a5-9bb0-f0193f433f92",
      "metadata": {
        "id": "9d3d6ac2-a380-49a5-9bb0-f0193f433f92"
      },
      "source": [
        "## Preprocessing text using spaCy\n",
        "\n",
        "The Python package spaCy offers models for automatically processing text in several languages: for part-of-speech tagging, lemmatization, syntactic analysis, and other types of analysis. Here is the link to the documentation: https://spacy.io/\n",
        "\n",
        "In order to use spaCy, you first have to download a model containing the relevant knowledge about the language you want to process. Here is how to download a model for English. It is the small model (hence the \"sm\")."
      ]
    },
    {
      "cell_type": "code",
      "execution_count": null,
      "id": "aac641fd-6a29-4faa-ab5c-2ac271726ffe",
      "metadata": {
        "tags": [],
        "id": "aac641fd-6a29-4faa-ab5c-2ac271726ffe",
        "colab": {
          "base_uri": "https://localhost:8080/"
        },
        "outputId": "09061a57-2cb9-46dc-c997-792c525fb17c"
      },
      "outputs": [
        {
          "output_type": "stream",
          "name": "stdout",
          "text": [
            "Collecting en-core-web-sm==3.7.1\n",
            "  Downloading https://github.com/explosion/spacy-models/releases/download/en_core_web_sm-3.7.1/en_core_web_sm-3.7.1-py3-none-any.whl (12.8 MB)\n",
            "\u001b[2K     \u001b[90m━━━━━━━━━━━━━━━━━━━━━━━━━━━━━━━━━━━━━━━━\u001b[0m \u001b[32m12.8/12.8 MB\u001b[0m \u001b[31m47.7 MB/s\u001b[0m eta \u001b[36m0:00:00\u001b[0m\n",
            "\u001b[?25hRequirement already satisfied: spacy<3.8.0,>=3.7.2 in /usr/local/lib/python3.10/dist-packages (from en-core-web-sm==3.7.1) (3.7.6)\n",
            "Requirement already satisfied: spacy-legacy<3.1.0,>=3.0.11 in /usr/local/lib/python3.10/dist-packages (from spacy<3.8.0,>=3.7.2->en-core-web-sm==3.7.1) (3.0.12)\n",
            "Requirement already satisfied: spacy-loggers<2.0.0,>=1.0.0 in /usr/local/lib/python3.10/dist-packages (from spacy<3.8.0,>=3.7.2->en-core-web-sm==3.7.1) (1.0.5)\n",
            "Requirement already satisfied: murmurhash<1.1.0,>=0.28.0 in /usr/local/lib/python3.10/dist-packages (from spacy<3.8.0,>=3.7.2->en-core-web-sm==3.7.1) (1.0.10)\n",
            "Requirement already satisfied: cymem<2.1.0,>=2.0.2 in /usr/local/lib/python3.10/dist-packages (from spacy<3.8.0,>=3.7.2->en-core-web-sm==3.7.1) (2.0.8)\n",
            "Requirement already satisfied: preshed<3.1.0,>=3.0.2 in /usr/local/lib/python3.10/dist-packages (from spacy<3.8.0,>=3.7.2->en-core-web-sm==3.7.1) (3.0.9)\n",
            "Requirement already satisfied: thinc<8.3.0,>=8.2.2 in /usr/local/lib/python3.10/dist-packages (from spacy<3.8.0,>=3.7.2->en-core-web-sm==3.7.1) (8.2.5)\n",
            "Requirement already satisfied: wasabi<1.2.0,>=0.9.1 in /usr/local/lib/python3.10/dist-packages (from spacy<3.8.0,>=3.7.2->en-core-web-sm==3.7.1) (1.1.3)\n",
            "Requirement already satisfied: srsly<3.0.0,>=2.4.3 in /usr/local/lib/python3.10/dist-packages (from spacy<3.8.0,>=3.7.2->en-core-web-sm==3.7.1) (2.4.8)\n",
            "Requirement already satisfied: catalogue<2.1.0,>=2.0.6 in /usr/local/lib/python3.10/dist-packages (from spacy<3.8.0,>=3.7.2->en-core-web-sm==3.7.1) (2.0.10)\n",
            "Requirement already satisfied: weasel<0.5.0,>=0.1.0 in /usr/local/lib/python3.10/dist-packages (from spacy<3.8.0,>=3.7.2->en-core-web-sm==3.7.1) (0.4.1)\n",
            "Requirement already satisfied: typer<1.0.0,>=0.3.0 in /usr/local/lib/python3.10/dist-packages (from spacy<3.8.0,>=3.7.2->en-core-web-sm==3.7.1) (0.12.5)\n",
            "Requirement already satisfied: tqdm<5.0.0,>=4.38.0 in /usr/local/lib/python3.10/dist-packages (from spacy<3.8.0,>=3.7.2->en-core-web-sm==3.7.1) (4.66.5)\n",
            "Requirement already satisfied: requests<3.0.0,>=2.13.0 in /usr/local/lib/python3.10/dist-packages (from spacy<3.8.0,>=3.7.2->en-core-web-sm==3.7.1) (2.32.3)\n",
            "Requirement already satisfied: pydantic!=1.8,!=1.8.1,<3.0.0,>=1.7.4 in /usr/local/lib/python3.10/dist-packages (from spacy<3.8.0,>=3.7.2->en-core-web-sm==3.7.1) (2.9.1)\n",
            "Requirement already satisfied: jinja2 in /usr/local/lib/python3.10/dist-packages (from spacy<3.8.0,>=3.7.2->en-core-web-sm==3.7.1) (3.1.4)\n",
            "Requirement already satisfied: setuptools in /usr/local/lib/python3.10/dist-packages (from spacy<3.8.0,>=3.7.2->en-core-web-sm==3.7.1) (71.0.4)\n",
            "Requirement already satisfied: packaging>=20.0 in /usr/local/lib/python3.10/dist-packages (from spacy<3.8.0,>=3.7.2->en-core-web-sm==3.7.1) (24.1)\n",
            "Requirement already satisfied: langcodes<4.0.0,>=3.2.0 in /usr/local/lib/python3.10/dist-packages (from spacy<3.8.0,>=3.7.2->en-core-web-sm==3.7.1) (3.4.0)\n",
            "Requirement already satisfied: numpy>=1.19.0 in /usr/local/lib/python3.10/dist-packages (from spacy<3.8.0,>=3.7.2->en-core-web-sm==3.7.1) (1.26.4)\n",
            "Requirement already satisfied: language-data>=1.2 in /usr/local/lib/python3.10/dist-packages (from langcodes<4.0.0,>=3.2.0->spacy<3.8.0,>=3.7.2->en-core-web-sm==3.7.1) (1.2.0)\n",
            "Requirement already satisfied: annotated-types>=0.6.0 in /usr/local/lib/python3.10/dist-packages (from pydantic!=1.8,!=1.8.1,<3.0.0,>=1.7.4->spacy<3.8.0,>=3.7.2->en-core-web-sm==3.7.1) (0.7.0)\n",
            "Requirement already satisfied: pydantic-core==2.23.3 in /usr/local/lib/python3.10/dist-packages (from pydantic!=1.8,!=1.8.1,<3.0.0,>=1.7.4->spacy<3.8.0,>=3.7.2->en-core-web-sm==3.7.1) (2.23.3)\n",
            "Requirement already satisfied: typing-extensions>=4.6.1 in /usr/local/lib/python3.10/dist-packages (from pydantic!=1.8,!=1.8.1,<3.0.0,>=1.7.4->spacy<3.8.0,>=3.7.2->en-core-web-sm==3.7.1) (4.12.2)\n",
            "Requirement already satisfied: charset-normalizer<4,>=2 in /usr/local/lib/python3.10/dist-packages (from requests<3.0.0,>=2.13.0->spacy<3.8.0,>=3.7.2->en-core-web-sm==3.7.1) (3.3.2)\n",
            "Requirement already satisfied: idna<4,>=2.5 in /usr/local/lib/python3.10/dist-packages (from requests<3.0.0,>=2.13.0->spacy<3.8.0,>=3.7.2->en-core-web-sm==3.7.1) (3.8)\n",
            "Requirement already satisfied: urllib3<3,>=1.21.1 in /usr/local/lib/python3.10/dist-packages (from requests<3.0.0,>=2.13.0->spacy<3.8.0,>=3.7.2->en-core-web-sm==3.7.1) (2.0.7)\n",
            "Requirement already satisfied: certifi>=2017.4.17 in /usr/local/lib/python3.10/dist-packages (from requests<3.0.0,>=2.13.0->spacy<3.8.0,>=3.7.2->en-core-web-sm==3.7.1) (2024.8.30)\n",
            "Requirement already satisfied: blis<0.8.0,>=0.7.8 in /usr/local/lib/python3.10/dist-packages (from thinc<8.3.0,>=8.2.2->spacy<3.8.0,>=3.7.2->en-core-web-sm==3.7.1) (0.7.11)\n",
            "Requirement already satisfied: confection<1.0.0,>=0.0.1 in /usr/local/lib/python3.10/dist-packages (from thinc<8.3.0,>=8.2.2->spacy<3.8.0,>=3.7.2->en-core-web-sm==3.7.1) (0.1.5)\n",
            "Requirement already satisfied: click>=8.0.0 in /usr/local/lib/python3.10/dist-packages (from typer<1.0.0,>=0.3.0->spacy<3.8.0,>=3.7.2->en-core-web-sm==3.7.1) (8.1.7)\n",
            "Requirement already satisfied: shellingham>=1.3.0 in /usr/local/lib/python3.10/dist-packages (from typer<1.0.0,>=0.3.0->spacy<3.8.0,>=3.7.2->en-core-web-sm==3.7.1) (1.5.4)\n",
            "Requirement already satisfied: rich>=10.11.0 in /usr/local/lib/python3.10/dist-packages (from typer<1.0.0,>=0.3.0->spacy<3.8.0,>=3.7.2->en-core-web-sm==3.7.1) (13.8.0)\n",
            "Requirement already satisfied: cloudpathlib<1.0.0,>=0.7.0 in /usr/local/lib/python3.10/dist-packages (from weasel<0.5.0,>=0.1.0->spacy<3.8.0,>=3.7.2->en-core-web-sm==3.7.1) (0.19.0)\n",
            "Requirement already satisfied: smart-open<8.0.0,>=5.2.1 in /usr/local/lib/python3.10/dist-packages (from weasel<0.5.0,>=0.1.0->spacy<3.8.0,>=3.7.2->en-core-web-sm==3.7.1) (7.0.4)\n",
            "Requirement already satisfied: MarkupSafe>=2.0 in /usr/local/lib/python3.10/dist-packages (from jinja2->spacy<3.8.0,>=3.7.2->en-core-web-sm==3.7.1) (2.1.5)\n",
            "Requirement already satisfied: marisa-trie>=0.7.7 in /usr/local/lib/python3.10/dist-packages (from language-data>=1.2->langcodes<4.0.0,>=3.2.0->spacy<3.8.0,>=3.7.2->en-core-web-sm==3.7.1) (1.2.0)\n",
            "Requirement already satisfied: markdown-it-py>=2.2.0 in /usr/local/lib/python3.10/dist-packages (from rich>=10.11.0->typer<1.0.0,>=0.3.0->spacy<3.8.0,>=3.7.2->en-core-web-sm==3.7.1) (3.0.0)\n",
            "Requirement already satisfied: pygments<3.0.0,>=2.13.0 in /usr/local/lib/python3.10/dist-packages (from rich>=10.11.0->typer<1.0.0,>=0.3.0->spacy<3.8.0,>=3.7.2->en-core-web-sm==3.7.1) (2.16.1)\n",
            "Requirement already satisfied: wrapt in /usr/local/lib/python3.10/dist-packages (from smart-open<8.0.0,>=5.2.1->weasel<0.5.0,>=0.1.0->spacy<3.8.0,>=3.7.2->en-core-web-sm==3.7.1) (1.16.0)\n",
            "Requirement already satisfied: mdurl~=0.1 in /usr/local/lib/python3.10/dist-packages (from markdown-it-py>=2.2.0->rich>=10.11.0->typer<1.0.0,>=0.3.0->spacy<3.8.0,>=3.7.2->en-core-web-sm==3.7.1) (0.1.2)\n",
            "\u001b[38;5;2m✔ Download and installation successful\u001b[0m\n",
            "You can now load the package via spacy.load('en_core_web_sm')\n",
            "\u001b[38;5;3m⚠ Restart to reload dependencies\u001b[0m\n",
            "If you are in a Jupyter or Colab notebook, you may need to restart Python in\n",
            "order to load all the package's dependencies. You can do this by selecting the\n",
            "'Restart kernel' or 'Restart runtime' option.\n"
          ]
        }
      ],
      "source": [
        "!python -m spacy download en_core_web_sm\n"
      ]
    },
    {
      "cell_type": "markdown",
      "id": "18c09c48-4c40-4972-aecc-7c7ea1babb59",
      "metadata": {
        "tags": [],
        "id": "18c09c48-4c40-4972-aecc-7c7ea1babb59"
      },
      "source": [
        "Now let's process some text. This is from the wikipedia page about Axolotls, https://en.wikipedia.org/wiki/Axolotl"
      ]
    },
    {
      "cell_type": "code",
      "execution_count": null,
      "id": "0a31caa8-c6a6-49d4-9081-ef7dd2744f62",
      "metadata": {
        "tags": [],
        "id": "0a31caa8-c6a6-49d4-9081-ef7dd2744f62",
        "outputId": "cba52d02-e26d-48f6-d347-2cbb6d8d7f0b",
        "colab": {
          "base_uri": "https://localhost:8080/"
        }
      },
      "outputs": [
        {
          "output_type": "execute_result",
          "data": {
            "text/plain": [
              "spacy.tokens.doc.Doc"
            ]
          },
          "metadata": {},
          "execution_count": 63
        }
      ],
      "source": [
        "import spacy\n",
        "\n",
        "spacy_obj = spacy.load(\"en_core_web_sm\")\n",
        "\n",
        "text = \"The feature of the axolotl that attracts most attention is its healing ability: the axolotl does not heal by scarring and is capable of the regeneration of entire lost appendages in a period of months, and, in certain cases, more vital structures, such as tail, limb, central nervous system, and tissues of the eye and heart.\"\n",
        "processed = spacy_obj(text)\n",
        "\n",
        "type(processed)"
      ]
    },
    {
      "cell_type": "markdown",
      "id": "3debb9c7-dacf-4acf-aa05-86290fa76a7d",
      "metadata": {
        "id": "3debb9c7-dacf-4acf-aa05-86290fa76a7d"
      },
      "source": [
        "This is an object from a class defined by spaCy. When we iterate over it, we can access individual tokens. Here is the word, lemma, and POS for each token. Each token is again an object, of type `spacy.tokens.token.Token`."
      ]
    },
    {
      "cell_type": "code",
      "execution_count": null,
      "id": "2095a70c-1a33-45c8-b825-3084451dd5ed",
      "metadata": {
        "tags": [],
        "id": "2095a70c-1a33-45c8-b825-3084451dd5ed",
        "outputId": "637655c3-ff79-4243-93c0-d903ffe307c4",
        "colab": {
          "base_uri": "https://localhost:8080/"
        }
      },
      "outputs": [
        {
          "output_type": "stream",
          "name": "stdout",
          "text": [
            "word: The lemma: the POS: DET\n",
            "word: feature lemma: feature POS: NOUN\n",
            "word: of lemma: of POS: ADP\n",
            "word: the lemma: the POS: DET\n",
            "word: axolotl lemma: axolotl POS: NOUN\n",
            "word: that lemma: that POS: PRON\n",
            "word: attracts lemma: attract POS: VERB\n",
            "word: most lemma: most POS: ADJ\n",
            "word: attention lemma: attention POS: NOUN\n",
            "word: is lemma: be POS: AUX\n",
            "word: its lemma: its POS: PRON\n",
            "word: healing lemma: healing POS: NOUN\n",
            "word: ability lemma: ability POS: NOUN\n",
            "word: : lemma: : POS: PUNCT\n",
            "word: the lemma: the POS: DET\n",
            "word: axolotl lemma: axolotl POS: NOUN\n",
            "word: does lemma: do POS: AUX\n",
            "word: not lemma: not POS: PART\n",
            "word: heal lemma: heal POS: VERB\n",
            "word: by lemma: by POS: ADP\n",
            "word: scarring lemma: scar POS: VERB\n",
            "word: and lemma: and POS: CCONJ\n",
            "word: is lemma: be POS: AUX\n",
            "word: capable lemma: capable POS: ADJ\n",
            "word: of lemma: of POS: ADP\n",
            "word: the lemma: the POS: DET\n",
            "word: regeneration lemma: regeneration POS: NOUN\n",
            "word: of lemma: of POS: ADP\n",
            "word: entire lemma: entire POS: ADJ\n",
            "word: lost lemma: lose POS: VERB\n",
            "word: appendages lemma: appendage POS: NOUN\n",
            "word: in lemma: in POS: ADP\n",
            "word: a lemma: a POS: DET\n",
            "word: period lemma: period POS: NOUN\n",
            "word: of lemma: of POS: ADP\n",
            "word: months lemma: month POS: NOUN\n",
            "word: , lemma: , POS: PUNCT\n",
            "word: and lemma: and POS: CCONJ\n",
            "word: , lemma: , POS: PUNCT\n",
            "word: in lemma: in POS: ADP\n",
            "word: certain lemma: certain POS: ADJ\n",
            "word: cases lemma: case POS: NOUN\n",
            "word: , lemma: , POS: PUNCT\n",
            "word: more lemma: more POS: ADV\n",
            "word: vital lemma: vital POS: ADJ\n",
            "word: structures lemma: structure POS: NOUN\n",
            "word: , lemma: , POS: PUNCT\n",
            "word: such lemma: such POS: ADJ\n",
            "word: as lemma: as POS: ADP\n",
            "word: tail lemma: tail POS: NOUN\n",
            "word: , lemma: , POS: PUNCT\n",
            "word: limb lemma: limb POS: ADJ\n",
            "word: , lemma: , POS: PUNCT\n",
            "word: central lemma: central POS: ADJ\n",
            "word: nervous lemma: nervous POS: ADJ\n",
            "word: system lemma: system POS: NOUN\n",
            "word: , lemma: , POS: PUNCT\n",
            "word: and lemma: and POS: CCONJ\n",
            "word: tissues lemma: tissue POS: NOUN\n",
            "word: of lemma: of POS: ADP\n",
            "word: the lemma: the POS: DET\n",
            "word: eye lemma: eye POS: NOUN\n",
            "word: and lemma: and POS: CCONJ\n",
            "word: heart lemma: heart POS: NOUN\n",
            "word: . lemma: . POS: PUNCT\n"
          ]
        }
      ],
      "source": [
        "for token in processed:\n",
        "    print(\"word:\", token.text, \"lemma:\", token.lemma_, \"POS:\", token.pos_)"
      ]
    },
    {
      "cell_type": "markdown",
      "id": "e88ac3cd-bde6-45f2-b217-05849cdffa2b",
      "metadata": {
        "id": "e88ac3cd-bde6-45f2-b217-05849cdffa2b"
      },
      "source": [
        "But the object contains more: It also has a dependency parse. Here is how to access it. As you can see, if `token` is a `spacy.tokens.token.Token`, then `token.head` is again a `spacy.tokens.token.Token`, the token that is the head word."
      ]
    },
    {
      "cell_type": "code",
      "execution_count": null,
      "id": "2e036689-530d-48b4-a624-d12d25627f85",
      "metadata": {
        "tags": [],
        "id": "2e036689-530d-48b4-a624-d12d25627f85",
        "outputId": "9aee97a7-3f9b-4a83-e376-7f2cb132a9af",
        "colab": {
          "base_uri": "https://localhost:8080/"
        }
      },
      "outputs": [
        {
          "output_type": "stream",
          "name": "stdout",
          "text": [
            "id: 0 word: The deprel: det head ID: 4 headword: feature\n",
            "id: 4 word: feature deprel: nsubj head ID: 56 headword: is\n",
            "id: 12 word: of deprel: prep head ID: 4 headword: feature\n",
            "id: 15 word: the deprel: det head ID: 19 headword: axolotl\n",
            "id: 19 word: axolotl deprel: pobj head ID: 12 headword: of\n",
            "id: 27 word: that deprel: nsubj head ID: 32 headword: attracts\n",
            "id: 32 word: attracts deprel: relcl head ID: 19 headword: axolotl\n",
            "id: 41 word: most deprel: amod head ID: 46 headword: attention\n",
            "id: 46 word: attention deprel: dobj head ID: 32 headword: attracts\n",
            "id: 56 word: is deprel: ccomp head ID: 101 headword: heal\n",
            "id: 59 word: its deprel: poss head ID: 71 headword: ability\n",
            "id: 63 word: healing deprel: compound head ID: 71 headword: ability\n",
            "id: 71 word: ability deprel: attr head ID: 56 headword: is\n",
            "id: 78 word: : deprel: punct head ID: 101 headword: heal\n",
            "id: 80 word: the deprel: det head ID: 84 headword: axolotl\n",
            "id: 84 word: axolotl deprel: nsubj head ID: 101 headword: heal\n",
            "id: 92 word: does deprel: aux head ID: 101 headword: heal\n",
            "id: 97 word: not deprel: neg head ID: 101 headword: heal\n",
            "id: 101 word: heal deprel: ROOT head ID: 101 headword: heal\n",
            "id: 106 word: by deprel: prep head ID: 101 headword: heal\n",
            "id: 109 word: scarring deprel: pcomp head ID: 106 headword: by\n",
            "id: 118 word: and deprel: cc head ID: 101 headword: heal\n",
            "id: 122 word: is deprel: conj head ID: 101 headword: heal\n",
            "id: 125 word: capable deprel: acomp head ID: 122 headword: is\n",
            "id: 133 word: of deprel: prep head ID: 125 headword: capable\n",
            "id: 136 word: the deprel: det head ID: 140 headword: regeneration\n",
            "id: 140 word: regeneration deprel: pobj head ID: 133 headword: of\n",
            "id: 153 word: of deprel: prep head ID: 140 headword: regeneration\n",
            "id: 156 word: entire deprel: amod head ID: 168 headword: appendages\n",
            "id: 163 word: lost deprel: amod head ID: 168 headword: appendages\n",
            "id: 168 word: appendages deprel: pobj head ID: 153 headword: of\n",
            "id: 179 word: in deprel: prep head ID: 140 headword: regeneration\n",
            "id: 182 word: a deprel: det head ID: 184 headword: period\n",
            "id: 184 word: period deprel: pobj head ID: 179 headword: in\n",
            "id: 191 word: of deprel: prep head ID: 184 headword: period\n",
            "id: 194 word: months deprel: pobj head ID: 191 headword: of\n",
            "id: 200 word: , deprel: punct head ID: 101 headword: heal\n",
            "id: 202 word: and deprel: cc head ID: 101 headword: heal\n",
            "id: 205 word: , deprel: punct head ID: 101 headword: heal\n",
            "id: 207 word: in deprel: prep head ID: 236 headword: structures\n",
            "id: 210 word: certain deprel: amod head ID: 218 headword: cases\n",
            "id: 218 word: cases deprel: pobj head ID: 207 headword: in\n",
            "id: 223 word: , deprel: punct head ID: 236 headword: structures\n",
            "id: 225 word: more deprel: amod head ID: 236 headword: structures\n",
            "id: 230 word: vital deprel: amod head ID: 236 headword: structures\n",
            "id: 236 word: structures deprel: conj head ID: 101 headword: heal\n",
            "id: 246 word: , deprel: punct head ID: 236 headword: structures\n",
            "id: 248 word: such deprel: amod head ID: 253 headword: as\n",
            "id: 253 word: as deprel: prep head ID: 236 headword: structures\n",
            "id: 256 word: tail deprel: pobj head ID: 253 headword: as\n",
            "id: 260 word: , deprel: punct head ID: 256 headword: tail\n",
            "id: 262 word: limb deprel: conj head ID: 256 headword: tail\n",
            "id: 266 word: , deprel: punct head ID: 262 headword: limb\n",
            "id: 268 word: central deprel: amod head ID: 284 headword: system\n",
            "id: 276 word: nervous deprel: amod head ID: 284 headword: system\n",
            "id: 284 word: system deprel: conj head ID: 262 headword: limb\n",
            "id: 290 word: , deprel: punct head ID: 284 headword: system\n",
            "id: 292 word: and deprel: cc head ID: 284 headword: system\n",
            "id: 296 word: tissues deprel: conj head ID: 284 headword: system\n",
            "id: 304 word: of deprel: prep head ID: 296 headword: tissues\n",
            "id: 307 word: the deprel: det head ID: 311 headword: eye\n",
            "id: 311 word: eye deprel: pobj head ID: 304 headword: of\n",
            "id: 315 word: and deprel: cc head ID: 311 headword: eye\n",
            "id: 319 word: heart deprel: conj head ID: 311 headword: eye\n",
            "id: 324 word: . deprel: punct head ID: 101 headword: heal\n"
          ]
        }
      ],
      "source": [
        "for token in processed:\n",
        "    print(\"id:\", token.idx, \"word:\", token.text, \"deprel:\", token.dep_, \"head ID:\", token.head.idx, \"headword:\", token.head.text)"
      ]
    },
    {
      "cell_type": "markdown",
      "id": "317d3ab2-1f42-43a4-8037-de82393a5835",
      "metadata": {
        "id": "317d3ab2-1f42-43a4-8037-de82393a5835"
      },
      "source": [
        "You can also visualize the dependency tree:"
      ]
    },
    {
      "cell_type": "code",
      "execution_count": null,
      "id": "2782167f-02ed-45cc-a016-5b2660d05202",
      "metadata": {
        "tags": [],
        "id": "2782167f-02ed-45cc-a016-5b2660d05202",
        "outputId": "511730a4-e692-4440-a4a8-36d2f03af851",
        "colab": {
          "base_uri": "https://localhost:8080/",
          "height": 704
        }
      },
      "outputs": [
        {
          "output_type": "display_data",
          "data": {
            "text/plain": [
              "<IPython.core.display.HTML object>"
            ],
            "text/html": [
              "<span class=\"tex2jax_ignore\"><svg xmlns=\"http://www.w3.org/2000/svg\" xmlns:xlink=\"http://www.w3.org/1999/xlink\" xml:lang=\"en\" id=\"0f592bd405424995913359fb7a1d483b-0\" class=\"displacy\" width=\"9850\" height=\"662.0\" direction=\"ltr\" style=\"max-width: none; height: 662.0px; color: #000000; background: #ffffff; font-family: Arial; direction: ltr\">\n",
              "<text class=\"displacy-token\" fill=\"currentColor\" text-anchor=\"middle\" y=\"572.0\">\n",
              "    <tspan class=\"displacy-word\" fill=\"currentColor\" x=\"50\">The</tspan>\n",
              "    <tspan class=\"displacy-tag\" dy=\"2em\" fill=\"currentColor\" x=\"50\">DET</tspan>\n",
              "</text>\n",
              "\n",
              "<text class=\"displacy-token\" fill=\"currentColor\" text-anchor=\"middle\" y=\"572.0\">\n",
              "    <tspan class=\"displacy-word\" fill=\"currentColor\" x=\"225\">feature</tspan>\n",
              "    <tspan class=\"displacy-tag\" dy=\"2em\" fill=\"currentColor\" x=\"225\">NOUN</tspan>\n",
              "</text>\n",
              "\n",
              "<text class=\"displacy-token\" fill=\"currentColor\" text-anchor=\"middle\" y=\"572.0\">\n",
              "    <tspan class=\"displacy-word\" fill=\"currentColor\" x=\"400\">of</tspan>\n",
              "    <tspan class=\"displacy-tag\" dy=\"2em\" fill=\"currentColor\" x=\"400\">ADP</tspan>\n",
              "</text>\n",
              "\n",
              "<text class=\"displacy-token\" fill=\"currentColor\" text-anchor=\"middle\" y=\"572.0\">\n",
              "    <tspan class=\"displacy-word\" fill=\"currentColor\" x=\"575\">the</tspan>\n",
              "    <tspan class=\"displacy-tag\" dy=\"2em\" fill=\"currentColor\" x=\"575\">DET</tspan>\n",
              "</text>\n",
              "\n",
              "<text class=\"displacy-token\" fill=\"currentColor\" text-anchor=\"middle\" y=\"572.0\">\n",
              "    <tspan class=\"displacy-word\" fill=\"currentColor\" x=\"750\">axolotl</tspan>\n",
              "    <tspan class=\"displacy-tag\" dy=\"2em\" fill=\"currentColor\" x=\"750\">NOUN</tspan>\n",
              "</text>\n",
              "\n",
              "<text class=\"displacy-token\" fill=\"currentColor\" text-anchor=\"middle\" y=\"572.0\">\n",
              "    <tspan class=\"displacy-word\" fill=\"currentColor\" x=\"925\">that</tspan>\n",
              "    <tspan class=\"displacy-tag\" dy=\"2em\" fill=\"currentColor\" x=\"925\">PRON</tspan>\n",
              "</text>\n",
              "\n",
              "<text class=\"displacy-token\" fill=\"currentColor\" text-anchor=\"middle\" y=\"572.0\">\n",
              "    <tspan class=\"displacy-word\" fill=\"currentColor\" x=\"1100\">attracts</tspan>\n",
              "    <tspan class=\"displacy-tag\" dy=\"2em\" fill=\"currentColor\" x=\"1100\">VERB</tspan>\n",
              "</text>\n",
              "\n",
              "<text class=\"displacy-token\" fill=\"currentColor\" text-anchor=\"middle\" y=\"572.0\">\n",
              "    <tspan class=\"displacy-word\" fill=\"currentColor\" x=\"1275\">most</tspan>\n",
              "    <tspan class=\"displacy-tag\" dy=\"2em\" fill=\"currentColor\" x=\"1275\">ADJ</tspan>\n",
              "</text>\n",
              "\n",
              "<text class=\"displacy-token\" fill=\"currentColor\" text-anchor=\"middle\" y=\"572.0\">\n",
              "    <tspan class=\"displacy-word\" fill=\"currentColor\" x=\"1450\">attention</tspan>\n",
              "    <tspan class=\"displacy-tag\" dy=\"2em\" fill=\"currentColor\" x=\"1450\">NOUN</tspan>\n",
              "</text>\n",
              "\n",
              "<text class=\"displacy-token\" fill=\"currentColor\" text-anchor=\"middle\" y=\"572.0\">\n",
              "    <tspan class=\"displacy-word\" fill=\"currentColor\" x=\"1625\">is</tspan>\n",
              "    <tspan class=\"displacy-tag\" dy=\"2em\" fill=\"currentColor\" x=\"1625\">AUX</tspan>\n",
              "</text>\n",
              "\n",
              "<text class=\"displacy-token\" fill=\"currentColor\" text-anchor=\"middle\" y=\"572.0\">\n",
              "    <tspan class=\"displacy-word\" fill=\"currentColor\" x=\"1800\">its</tspan>\n",
              "    <tspan class=\"displacy-tag\" dy=\"2em\" fill=\"currentColor\" x=\"1800\">PRON</tspan>\n",
              "</text>\n",
              "\n",
              "<text class=\"displacy-token\" fill=\"currentColor\" text-anchor=\"middle\" y=\"572.0\">\n",
              "    <tspan class=\"displacy-word\" fill=\"currentColor\" x=\"1975\">healing</tspan>\n",
              "    <tspan class=\"displacy-tag\" dy=\"2em\" fill=\"currentColor\" x=\"1975\">NOUN</tspan>\n",
              "</text>\n",
              "\n",
              "<text class=\"displacy-token\" fill=\"currentColor\" text-anchor=\"middle\" y=\"572.0\">\n",
              "    <tspan class=\"displacy-word\" fill=\"currentColor\" x=\"2150\">ability:</tspan>\n",
              "    <tspan class=\"displacy-tag\" dy=\"2em\" fill=\"currentColor\" x=\"2150\">NOUN</tspan>\n",
              "</text>\n",
              "\n",
              "<text class=\"displacy-token\" fill=\"currentColor\" text-anchor=\"middle\" y=\"572.0\">\n",
              "    <tspan class=\"displacy-word\" fill=\"currentColor\" x=\"2325\">the</tspan>\n",
              "    <tspan class=\"displacy-tag\" dy=\"2em\" fill=\"currentColor\" x=\"2325\">DET</tspan>\n",
              "</text>\n",
              "\n",
              "<text class=\"displacy-token\" fill=\"currentColor\" text-anchor=\"middle\" y=\"572.0\">\n",
              "    <tspan class=\"displacy-word\" fill=\"currentColor\" x=\"2500\">axolotl</tspan>\n",
              "    <tspan class=\"displacy-tag\" dy=\"2em\" fill=\"currentColor\" x=\"2500\">NOUN</tspan>\n",
              "</text>\n",
              "\n",
              "<text class=\"displacy-token\" fill=\"currentColor\" text-anchor=\"middle\" y=\"572.0\">\n",
              "    <tspan class=\"displacy-word\" fill=\"currentColor\" x=\"2675\">does</tspan>\n",
              "    <tspan class=\"displacy-tag\" dy=\"2em\" fill=\"currentColor\" x=\"2675\">AUX</tspan>\n",
              "</text>\n",
              "\n",
              "<text class=\"displacy-token\" fill=\"currentColor\" text-anchor=\"middle\" y=\"572.0\">\n",
              "    <tspan class=\"displacy-word\" fill=\"currentColor\" x=\"2850\">not</tspan>\n",
              "    <tspan class=\"displacy-tag\" dy=\"2em\" fill=\"currentColor\" x=\"2850\">PART</tspan>\n",
              "</text>\n",
              "\n",
              "<text class=\"displacy-token\" fill=\"currentColor\" text-anchor=\"middle\" y=\"572.0\">\n",
              "    <tspan class=\"displacy-word\" fill=\"currentColor\" x=\"3025\">heal</tspan>\n",
              "    <tspan class=\"displacy-tag\" dy=\"2em\" fill=\"currentColor\" x=\"3025\">VERB</tspan>\n",
              "</text>\n",
              "\n",
              "<text class=\"displacy-token\" fill=\"currentColor\" text-anchor=\"middle\" y=\"572.0\">\n",
              "    <tspan class=\"displacy-word\" fill=\"currentColor\" x=\"3200\">by</tspan>\n",
              "    <tspan class=\"displacy-tag\" dy=\"2em\" fill=\"currentColor\" x=\"3200\">ADP</tspan>\n",
              "</text>\n",
              "\n",
              "<text class=\"displacy-token\" fill=\"currentColor\" text-anchor=\"middle\" y=\"572.0\">\n",
              "    <tspan class=\"displacy-word\" fill=\"currentColor\" x=\"3375\">scarring</tspan>\n",
              "    <tspan class=\"displacy-tag\" dy=\"2em\" fill=\"currentColor\" x=\"3375\">VERB</tspan>\n",
              "</text>\n",
              "\n",
              "<text class=\"displacy-token\" fill=\"currentColor\" text-anchor=\"middle\" y=\"572.0\">\n",
              "    <tspan class=\"displacy-word\" fill=\"currentColor\" x=\"3550\">and</tspan>\n",
              "    <tspan class=\"displacy-tag\" dy=\"2em\" fill=\"currentColor\" x=\"3550\">CCONJ</tspan>\n",
              "</text>\n",
              "\n",
              "<text class=\"displacy-token\" fill=\"currentColor\" text-anchor=\"middle\" y=\"572.0\">\n",
              "    <tspan class=\"displacy-word\" fill=\"currentColor\" x=\"3725\">is</tspan>\n",
              "    <tspan class=\"displacy-tag\" dy=\"2em\" fill=\"currentColor\" x=\"3725\">AUX</tspan>\n",
              "</text>\n",
              "\n",
              "<text class=\"displacy-token\" fill=\"currentColor\" text-anchor=\"middle\" y=\"572.0\">\n",
              "    <tspan class=\"displacy-word\" fill=\"currentColor\" x=\"3900\">capable</tspan>\n",
              "    <tspan class=\"displacy-tag\" dy=\"2em\" fill=\"currentColor\" x=\"3900\">ADJ</tspan>\n",
              "</text>\n",
              "\n",
              "<text class=\"displacy-token\" fill=\"currentColor\" text-anchor=\"middle\" y=\"572.0\">\n",
              "    <tspan class=\"displacy-word\" fill=\"currentColor\" x=\"4075\">of</tspan>\n",
              "    <tspan class=\"displacy-tag\" dy=\"2em\" fill=\"currentColor\" x=\"4075\">ADP</tspan>\n",
              "</text>\n",
              "\n",
              "<text class=\"displacy-token\" fill=\"currentColor\" text-anchor=\"middle\" y=\"572.0\">\n",
              "    <tspan class=\"displacy-word\" fill=\"currentColor\" x=\"4250\">the</tspan>\n",
              "    <tspan class=\"displacy-tag\" dy=\"2em\" fill=\"currentColor\" x=\"4250\">DET</tspan>\n",
              "</text>\n",
              "\n",
              "<text class=\"displacy-token\" fill=\"currentColor\" text-anchor=\"middle\" y=\"572.0\">\n",
              "    <tspan class=\"displacy-word\" fill=\"currentColor\" x=\"4425\">regeneration</tspan>\n",
              "    <tspan class=\"displacy-tag\" dy=\"2em\" fill=\"currentColor\" x=\"4425\">NOUN</tspan>\n",
              "</text>\n",
              "\n",
              "<text class=\"displacy-token\" fill=\"currentColor\" text-anchor=\"middle\" y=\"572.0\">\n",
              "    <tspan class=\"displacy-word\" fill=\"currentColor\" x=\"4600\">of</tspan>\n",
              "    <tspan class=\"displacy-tag\" dy=\"2em\" fill=\"currentColor\" x=\"4600\">ADP</tspan>\n",
              "</text>\n",
              "\n",
              "<text class=\"displacy-token\" fill=\"currentColor\" text-anchor=\"middle\" y=\"572.0\">\n",
              "    <tspan class=\"displacy-word\" fill=\"currentColor\" x=\"4775\">entire</tspan>\n",
              "    <tspan class=\"displacy-tag\" dy=\"2em\" fill=\"currentColor\" x=\"4775\">ADJ</tspan>\n",
              "</text>\n",
              "\n",
              "<text class=\"displacy-token\" fill=\"currentColor\" text-anchor=\"middle\" y=\"572.0\">\n",
              "    <tspan class=\"displacy-word\" fill=\"currentColor\" x=\"4950\">lost</tspan>\n",
              "    <tspan class=\"displacy-tag\" dy=\"2em\" fill=\"currentColor\" x=\"4950\">VERB</tspan>\n",
              "</text>\n",
              "\n",
              "<text class=\"displacy-token\" fill=\"currentColor\" text-anchor=\"middle\" y=\"572.0\">\n",
              "    <tspan class=\"displacy-word\" fill=\"currentColor\" x=\"5125\">appendages</tspan>\n",
              "    <tspan class=\"displacy-tag\" dy=\"2em\" fill=\"currentColor\" x=\"5125\">NOUN</tspan>\n",
              "</text>\n",
              "\n",
              "<text class=\"displacy-token\" fill=\"currentColor\" text-anchor=\"middle\" y=\"572.0\">\n",
              "    <tspan class=\"displacy-word\" fill=\"currentColor\" x=\"5300\">in</tspan>\n",
              "    <tspan class=\"displacy-tag\" dy=\"2em\" fill=\"currentColor\" x=\"5300\">ADP</tspan>\n",
              "</text>\n",
              "\n",
              "<text class=\"displacy-token\" fill=\"currentColor\" text-anchor=\"middle\" y=\"572.0\">\n",
              "    <tspan class=\"displacy-word\" fill=\"currentColor\" x=\"5475\">a</tspan>\n",
              "    <tspan class=\"displacy-tag\" dy=\"2em\" fill=\"currentColor\" x=\"5475\">DET</tspan>\n",
              "</text>\n",
              "\n",
              "<text class=\"displacy-token\" fill=\"currentColor\" text-anchor=\"middle\" y=\"572.0\">\n",
              "    <tspan class=\"displacy-word\" fill=\"currentColor\" x=\"5650\">period</tspan>\n",
              "    <tspan class=\"displacy-tag\" dy=\"2em\" fill=\"currentColor\" x=\"5650\">NOUN</tspan>\n",
              "</text>\n",
              "\n",
              "<text class=\"displacy-token\" fill=\"currentColor\" text-anchor=\"middle\" y=\"572.0\">\n",
              "    <tspan class=\"displacy-word\" fill=\"currentColor\" x=\"5825\">of</tspan>\n",
              "    <tspan class=\"displacy-tag\" dy=\"2em\" fill=\"currentColor\" x=\"5825\">ADP</tspan>\n",
              "</text>\n",
              "\n",
              "<text class=\"displacy-token\" fill=\"currentColor\" text-anchor=\"middle\" y=\"572.0\">\n",
              "    <tspan class=\"displacy-word\" fill=\"currentColor\" x=\"6000\">months,</tspan>\n",
              "    <tspan class=\"displacy-tag\" dy=\"2em\" fill=\"currentColor\" x=\"6000\">NOUN</tspan>\n",
              "</text>\n",
              "\n",
              "<text class=\"displacy-token\" fill=\"currentColor\" text-anchor=\"middle\" y=\"572.0\">\n",
              "    <tspan class=\"displacy-word\" fill=\"currentColor\" x=\"6175\">and,</tspan>\n",
              "    <tspan class=\"displacy-tag\" dy=\"2em\" fill=\"currentColor\" x=\"6175\">CCONJ</tspan>\n",
              "</text>\n",
              "\n",
              "<text class=\"displacy-token\" fill=\"currentColor\" text-anchor=\"middle\" y=\"572.0\">\n",
              "    <tspan class=\"displacy-word\" fill=\"currentColor\" x=\"6350\">in</tspan>\n",
              "    <tspan class=\"displacy-tag\" dy=\"2em\" fill=\"currentColor\" x=\"6350\">ADP</tspan>\n",
              "</text>\n",
              "\n",
              "<text class=\"displacy-token\" fill=\"currentColor\" text-anchor=\"middle\" y=\"572.0\">\n",
              "    <tspan class=\"displacy-word\" fill=\"currentColor\" x=\"6525\">certain</tspan>\n",
              "    <tspan class=\"displacy-tag\" dy=\"2em\" fill=\"currentColor\" x=\"6525\">ADJ</tspan>\n",
              "</text>\n",
              "\n",
              "<text class=\"displacy-token\" fill=\"currentColor\" text-anchor=\"middle\" y=\"572.0\">\n",
              "    <tspan class=\"displacy-word\" fill=\"currentColor\" x=\"6700\">cases,</tspan>\n",
              "    <tspan class=\"displacy-tag\" dy=\"2em\" fill=\"currentColor\" x=\"6700\">NOUN</tspan>\n",
              "</text>\n",
              "\n",
              "<text class=\"displacy-token\" fill=\"currentColor\" text-anchor=\"middle\" y=\"572.0\">\n",
              "    <tspan class=\"displacy-word\" fill=\"currentColor\" x=\"6875\">more</tspan>\n",
              "    <tspan class=\"displacy-tag\" dy=\"2em\" fill=\"currentColor\" x=\"6875\">ADV</tspan>\n",
              "</text>\n",
              "\n",
              "<text class=\"displacy-token\" fill=\"currentColor\" text-anchor=\"middle\" y=\"572.0\">\n",
              "    <tspan class=\"displacy-word\" fill=\"currentColor\" x=\"7050\">vital</tspan>\n",
              "    <tspan class=\"displacy-tag\" dy=\"2em\" fill=\"currentColor\" x=\"7050\">ADJ</tspan>\n",
              "</text>\n",
              "\n",
              "<text class=\"displacy-token\" fill=\"currentColor\" text-anchor=\"middle\" y=\"572.0\">\n",
              "    <tspan class=\"displacy-word\" fill=\"currentColor\" x=\"7225\">structures,</tspan>\n",
              "    <tspan class=\"displacy-tag\" dy=\"2em\" fill=\"currentColor\" x=\"7225\">NOUN</tspan>\n",
              "</text>\n",
              "\n",
              "<text class=\"displacy-token\" fill=\"currentColor\" text-anchor=\"middle\" y=\"572.0\">\n",
              "    <tspan class=\"displacy-word\" fill=\"currentColor\" x=\"7400\">such</tspan>\n",
              "    <tspan class=\"displacy-tag\" dy=\"2em\" fill=\"currentColor\" x=\"7400\">ADJ</tspan>\n",
              "</text>\n",
              "\n",
              "<text class=\"displacy-token\" fill=\"currentColor\" text-anchor=\"middle\" y=\"572.0\">\n",
              "    <tspan class=\"displacy-word\" fill=\"currentColor\" x=\"7575\">as</tspan>\n",
              "    <tspan class=\"displacy-tag\" dy=\"2em\" fill=\"currentColor\" x=\"7575\">ADP</tspan>\n",
              "</text>\n",
              "\n",
              "<text class=\"displacy-token\" fill=\"currentColor\" text-anchor=\"middle\" y=\"572.0\">\n",
              "    <tspan class=\"displacy-word\" fill=\"currentColor\" x=\"7750\">tail,</tspan>\n",
              "    <tspan class=\"displacy-tag\" dy=\"2em\" fill=\"currentColor\" x=\"7750\">NOUN</tspan>\n",
              "</text>\n",
              "\n",
              "<text class=\"displacy-token\" fill=\"currentColor\" text-anchor=\"middle\" y=\"572.0\">\n",
              "    <tspan class=\"displacy-word\" fill=\"currentColor\" x=\"7925\">limb,</tspan>\n",
              "    <tspan class=\"displacy-tag\" dy=\"2em\" fill=\"currentColor\" x=\"7925\">ADJ</tspan>\n",
              "</text>\n",
              "\n",
              "<text class=\"displacy-token\" fill=\"currentColor\" text-anchor=\"middle\" y=\"572.0\">\n",
              "    <tspan class=\"displacy-word\" fill=\"currentColor\" x=\"8100\">central</tspan>\n",
              "    <tspan class=\"displacy-tag\" dy=\"2em\" fill=\"currentColor\" x=\"8100\">ADJ</tspan>\n",
              "</text>\n",
              "\n",
              "<text class=\"displacy-token\" fill=\"currentColor\" text-anchor=\"middle\" y=\"572.0\">\n",
              "    <tspan class=\"displacy-word\" fill=\"currentColor\" x=\"8275\">nervous</tspan>\n",
              "    <tspan class=\"displacy-tag\" dy=\"2em\" fill=\"currentColor\" x=\"8275\">ADJ</tspan>\n",
              "</text>\n",
              "\n",
              "<text class=\"displacy-token\" fill=\"currentColor\" text-anchor=\"middle\" y=\"572.0\">\n",
              "    <tspan class=\"displacy-word\" fill=\"currentColor\" x=\"8450\">system,</tspan>\n",
              "    <tspan class=\"displacy-tag\" dy=\"2em\" fill=\"currentColor\" x=\"8450\">NOUN</tspan>\n",
              "</text>\n",
              "\n",
              "<text class=\"displacy-token\" fill=\"currentColor\" text-anchor=\"middle\" y=\"572.0\">\n",
              "    <tspan class=\"displacy-word\" fill=\"currentColor\" x=\"8625\">and</tspan>\n",
              "    <tspan class=\"displacy-tag\" dy=\"2em\" fill=\"currentColor\" x=\"8625\">CCONJ</tspan>\n",
              "</text>\n",
              "\n",
              "<text class=\"displacy-token\" fill=\"currentColor\" text-anchor=\"middle\" y=\"572.0\">\n",
              "    <tspan class=\"displacy-word\" fill=\"currentColor\" x=\"8800\">tissues</tspan>\n",
              "    <tspan class=\"displacy-tag\" dy=\"2em\" fill=\"currentColor\" x=\"8800\">NOUN</tspan>\n",
              "</text>\n",
              "\n",
              "<text class=\"displacy-token\" fill=\"currentColor\" text-anchor=\"middle\" y=\"572.0\">\n",
              "    <tspan class=\"displacy-word\" fill=\"currentColor\" x=\"8975\">of</tspan>\n",
              "    <tspan class=\"displacy-tag\" dy=\"2em\" fill=\"currentColor\" x=\"8975\">ADP</tspan>\n",
              "</text>\n",
              "\n",
              "<text class=\"displacy-token\" fill=\"currentColor\" text-anchor=\"middle\" y=\"572.0\">\n",
              "    <tspan class=\"displacy-word\" fill=\"currentColor\" x=\"9150\">the</tspan>\n",
              "    <tspan class=\"displacy-tag\" dy=\"2em\" fill=\"currentColor\" x=\"9150\">DET</tspan>\n",
              "</text>\n",
              "\n",
              "<text class=\"displacy-token\" fill=\"currentColor\" text-anchor=\"middle\" y=\"572.0\">\n",
              "    <tspan class=\"displacy-word\" fill=\"currentColor\" x=\"9325\">eye</tspan>\n",
              "    <tspan class=\"displacy-tag\" dy=\"2em\" fill=\"currentColor\" x=\"9325\">NOUN</tspan>\n",
              "</text>\n",
              "\n",
              "<text class=\"displacy-token\" fill=\"currentColor\" text-anchor=\"middle\" y=\"572.0\">\n",
              "    <tspan class=\"displacy-word\" fill=\"currentColor\" x=\"9500\">and</tspan>\n",
              "    <tspan class=\"displacy-tag\" dy=\"2em\" fill=\"currentColor\" x=\"9500\">CCONJ</tspan>\n",
              "</text>\n",
              "\n",
              "<text class=\"displacy-token\" fill=\"currentColor\" text-anchor=\"middle\" y=\"572.0\">\n",
              "    <tspan class=\"displacy-word\" fill=\"currentColor\" x=\"9675\">heart.</tspan>\n",
              "    <tspan class=\"displacy-tag\" dy=\"2em\" fill=\"currentColor\" x=\"9675\">NOUN</tspan>\n",
              "</text>\n",
              "\n",
              "<g class=\"displacy-arrow\">\n",
              "    <path class=\"displacy-arc\" id=\"arrow-0f592bd405424995913359fb7a1d483b-0-0\" stroke-width=\"2px\" d=\"M70,527.0 C70,439.5 200.0,439.5 200.0,527.0\" fill=\"none\" stroke=\"currentColor\"/>\n",
              "    <text dy=\"1.25em\" style=\"font-size: 0.8em; letter-spacing: 1px\">\n",
              "        <textPath xlink:href=\"#arrow-0f592bd405424995913359fb7a1d483b-0-0\" class=\"displacy-label\" startOffset=\"50%\" side=\"left\" fill=\"currentColor\" text-anchor=\"middle\">det</textPath>\n",
              "    </text>\n",
              "    <path class=\"displacy-arrowhead\" d=\"M70,529.0 L62,517.0 78,517.0\" fill=\"currentColor\"/>\n",
              "</g>\n",
              "\n",
              "<g class=\"displacy-arrow\">\n",
              "    <path class=\"displacy-arc\" id=\"arrow-0f592bd405424995913359fb7a1d483b-0-1\" stroke-width=\"2px\" d=\"M245,527.0 C245,264.5 1610.0,264.5 1610.0,527.0\" fill=\"none\" stroke=\"currentColor\"/>\n",
              "    <text dy=\"1.25em\" style=\"font-size: 0.8em; letter-spacing: 1px\">\n",
              "        <textPath xlink:href=\"#arrow-0f592bd405424995913359fb7a1d483b-0-1\" class=\"displacy-label\" startOffset=\"50%\" side=\"left\" fill=\"currentColor\" text-anchor=\"middle\">nsubj</textPath>\n",
              "    </text>\n",
              "    <path class=\"displacy-arrowhead\" d=\"M245,529.0 L237,517.0 253,517.0\" fill=\"currentColor\"/>\n",
              "</g>\n",
              "\n",
              "<g class=\"displacy-arrow\">\n",
              "    <path class=\"displacy-arc\" id=\"arrow-0f592bd405424995913359fb7a1d483b-0-2\" stroke-width=\"2px\" d=\"M245,527.0 C245,439.5 375.0,439.5 375.0,527.0\" fill=\"none\" stroke=\"currentColor\"/>\n",
              "    <text dy=\"1.25em\" style=\"font-size: 0.8em; letter-spacing: 1px\">\n",
              "        <textPath xlink:href=\"#arrow-0f592bd405424995913359fb7a1d483b-0-2\" class=\"displacy-label\" startOffset=\"50%\" side=\"left\" fill=\"currentColor\" text-anchor=\"middle\">prep</textPath>\n",
              "    </text>\n",
              "    <path class=\"displacy-arrowhead\" d=\"M375.0,529.0 L383.0,517.0 367.0,517.0\" fill=\"currentColor\"/>\n",
              "</g>\n",
              "\n",
              "<g class=\"displacy-arrow\">\n",
              "    <path class=\"displacy-arc\" id=\"arrow-0f592bd405424995913359fb7a1d483b-0-3\" stroke-width=\"2px\" d=\"M595,527.0 C595,439.5 725.0,439.5 725.0,527.0\" fill=\"none\" stroke=\"currentColor\"/>\n",
              "    <text dy=\"1.25em\" style=\"font-size: 0.8em; letter-spacing: 1px\">\n",
              "        <textPath xlink:href=\"#arrow-0f592bd405424995913359fb7a1d483b-0-3\" class=\"displacy-label\" startOffset=\"50%\" side=\"left\" fill=\"currentColor\" text-anchor=\"middle\">det</textPath>\n",
              "    </text>\n",
              "    <path class=\"displacy-arrowhead\" d=\"M595,529.0 L587,517.0 603,517.0\" fill=\"currentColor\"/>\n",
              "</g>\n",
              "\n",
              "<g class=\"displacy-arrow\">\n",
              "    <path class=\"displacy-arc\" id=\"arrow-0f592bd405424995913359fb7a1d483b-0-4\" stroke-width=\"2px\" d=\"M420,527.0 C420,352.0 730.0,352.0 730.0,527.0\" fill=\"none\" stroke=\"currentColor\"/>\n",
              "    <text dy=\"1.25em\" style=\"font-size: 0.8em; letter-spacing: 1px\">\n",
              "        <textPath xlink:href=\"#arrow-0f592bd405424995913359fb7a1d483b-0-4\" class=\"displacy-label\" startOffset=\"50%\" side=\"left\" fill=\"currentColor\" text-anchor=\"middle\">pobj</textPath>\n",
              "    </text>\n",
              "    <path class=\"displacy-arrowhead\" d=\"M730.0,529.0 L738.0,517.0 722.0,517.0\" fill=\"currentColor\"/>\n",
              "</g>\n",
              "\n",
              "<g class=\"displacy-arrow\">\n",
              "    <path class=\"displacy-arc\" id=\"arrow-0f592bd405424995913359fb7a1d483b-0-5\" stroke-width=\"2px\" d=\"M945,527.0 C945,439.5 1075.0,439.5 1075.0,527.0\" fill=\"none\" stroke=\"currentColor\"/>\n",
              "    <text dy=\"1.25em\" style=\"font-size: 0.8em; letter-spacing: 1px\">\n",
              "        <textPath xlink:href=\"#arrow-0f592bd405424995913359fb7a1d483b-0-5\" class=\"displacy-label\" startOffset=\"50%\" side=\"left\" fill=\"currentColor\" text-anchor=\"middle\">nsubj</textPath>\n",
              "    </text>\n",
              "    <path class=\"displacy-arrowhead\" d=\"M945,529.0 L937,517.0 953,517.0\" fill=\"currentColor\"/>\n",
              "</g>\n",
              "\n",
              "<g class=\"displacy-arrow\">\n",
              "    <path class=\"displacy-arc\" id=\"arrow-0f592bd405424995913359fb7a1d483b-0-6\" stroke-width=\"2px\" d=\"M770,527.0 C770,352.0 1080.0,352.0 1080.0,527.0\" fill=\"none\" stroke=\"currentColor\"/>\n",
              "    <text dy=\"1.25em\" style=\"font-size: 0.8em; letter-spacing: 1px\">\n",
              "        <textPath xlink:href=\"#arrow-0f592bd405424995913359fb7a1d483b-0-6\" class=\"displacy-label\" startOffset=\"50%\" side=\"left\" fill=\"currentColor\" text-anchor=\"middle\">relcl</textPath>\n",
              "    </text>\n",
              "    <path class=\"displacy-arrowhead\" d=\"M1080.0,529.0 L1088.0,517.0 1072.0,517.0\" fill=\"currentColor\"/>\n",
              "</g>\n",
              "\n",
              "<g class=\"displacy-arrow\">\n",
              "    <path class=\"displacy-arc\" id=\"arrow-0f592bd405424995913359fb7a1d483b-0-7\" stroke-width=\"2px\" d=\"M1295,527.0 C1295,439.5 1425.0,439.5 1425.0,527.0\" fill=\"none\" stroke=\"currentColor\"/>\n",
              "    <text dy=\"1.25em\" style=\"font-size: 0.8em; letter-spacing: 1px\">\n",
              "        <textPath xlink:href=\"#arrow-0f592bd405424995913359fb7a1d483b-0-7\" class=\"displacy-label\" startOffset=\"50%\" side=\"left\" fill=\"currentColor\" text-anchor=\"middle\">amod</textPath>\n",
              "    </text>\n",
              "    <path class=\"displacy-arrowhead\" d=\"M1295,529.0 L1287,517.0 1303,517.0\" fill=\"currentColor\"/>\n",
              "</g>\n",
              "\n",
              "<g class=\"displacy-arrow\">\n",
              "    <path class=\"displacy-arc\" id=\"arrow-0f592bd405424995913359fb7a1d483b-0-8\" stroke-width=\"2px\" d=\"M1120,527.0 C1120,352.0 1430.0,352.0 1430.0,527.0\" fill=\"none\" stroke=\"currentColor\"/>\n",
              "    <text dy=\"1.25em\" style=\"font-size: 0.8em; letter-spacing: 1px\">\n",
              "        <textPath xlink:href=\"#arrow-0f592bd405424995913359fb7a1d483b-0-8\" class=\"displacy-label\" startOffset=\"50%\" side=\"left\" fill=\"currentColor\" text-anchor=\"middle\">dobj</textPath>\n",
              "    </text>\n",
              "    <path class=\"displacy-arrowhead\" d=\"M1430.0,529.0 L1438.0,517.0 1422.0,517.0\" fill=\"currentColor\"/>\n",
              "</g>\n",
              "\n",
              "<g class=\"displacy-arrow\">\n",
              "    <path class=\"displacy-arc\" id=\"arrow-0f592bd405424995913359fb7a1d483b-0-9\" stroke-width=\"2px\" d=\"M1645,527.0 C1645,177.0 3015.0,177.0 3015.0,527.0\" fill=\"none\" stroke=\"currentColor\"/>\n",
              "    <text dy=\"1.25em\" style=\"font-size: 0.8em; letter-spacing: 1px\">\n",
              "        <textPath xlink:href=\"#arrow-0f592bd405424995913359fb7a1d483b-0-9\" class=\"displacy-label\" startOffset=\"50%\" side=\"left\" fill=\"currentColor\" text-anchor=\"middle\">ccomp</textPath>\n",
              "    </text>\n",
              "    <path class=\"displacy-arrowhead\" d=\"M1645,529.0 L1637,517.0 1653,517.0\" fill=\"currentColor\"/>\n",
              "</g>\n",
              "\n",
              "<g class=\"displacy-arrow\">\n",
              "    <path class=\"displacy-arc\" id=\"arrow-0f592bd405424995913359fb7a1d483b-0-10\" stroke-width=\"2px\" d=\"M1820,527.0 C1820,352.0 2130.0,352.0 2130.0,527.0\" fill=\"none\" stroke=\"currentColor\"/>\n",
              "    <text dy=\"1.25em\" style=\"font-size: 0.8em; letter-spacing: 1px\">\n",
              "        <textPath xlink:href=\"#arrow-0f592bd405424995913359fb7a1d483b-0-10\" class=\"displacy-label\" startOffset=\"50%\" side=\"left\" fill=\"currentColor\" text-anchor=\"middle\">poss</textPath>\n",
              "    </text>\n",
              "    <path class=\"displacy-arrowhead\" d=\"M1820,529.0 L1812,517.0 1828,517.0\" fill=\"currentColor\"/>\n",
              "</g>\n",
              "\n",
              "<g class=\"displacy-arrow\">\n",
              "    <path class=\"displacy-arc\" id=\"arrow-0f592bd405424995913359fb7a1d483b-0-11\" stroke-width=\"2px\" d=\"M1995,527.0 C1995,439.5 2125.0,439.5 2125.0,527.0\" fill=\"none\" stroke=\"currentColor\"/>\n",
              "    <text dy=\"1.25em\" style=\"font-size: 0.8em; letter-spacing: 1px\">\n",
              "        <textPath xlink:href=\"#arrow-0f592bd405424995913359fb7a1d483b-0-11\" class=\"displacy-label\" startOffset=\"50%\" side=\"left\" fill=\"currentColor\" text-anchor=\"middle\">compound</textPath>\n",
              "    </text>\n",
              "    <path class=\"displacy-arrowhead\" d=\"M1995,529.0 L1987,517.0 2003,517.0\" fill=\"currentColor\"/>\n",
              "</g>\n",
              "\n",
              "<g class=\"displacy-arrow\">\n",
              "    <path class=\"displacy-arc\" id=\"arrow-0f592bd405424995913359fb7a1d483b-0-12\" stroke-width=\"2px\" d=\"M1645,527.0 C1645,264.5 2135.0,264.5 2135.0,527.0\" fill=\"none\" stroke=\"currentColor\"/>\n",
              "    <text dy=\"1.25em\" style=\"font-size: 0.8em; letter-spacing: 1px\">\n",
              "        <textPath xlink:href=\"#arrow-0f592bd405424995913359fb7a1d483b-0-12\" class=\"displacy-label\" startOffset=\"50%\" side=\"left\" fill=\"currentColor\" text-anchor=\"middle\">attr</textPath>\n",
              "    </text>\n",
              "    <path class=\"displacy-arrowhead\" d=\"M2135.0,529.0 L2143.0,517.0 2127.0,517.0\" fill=\"currentColor\"/>\n",
              "</g>\n",
              "\n",
              "<g class=\"displacy-arrow\">\n",
              "    <path class=\"displacy-arc\" id=\"arrow-0f592bd405424995913359fb7a1d483b-0-13\" stroke-width=\"2px\" d=\"M2345,527.0 C2345,439.5 2475.0,439.5 2475.0,527.0\" fill=\"none\" stroke=\"currentColor\"/>\n",
              "    <text dy=\"1.25em\" style=\"font-size: 0.8em; letter-spacing: 1px\">\n",
              "        <textPath xlink:href=\"#arrow-0f592bd405424995913359fb7a1d483b-0-13\" class=\"displacy-label\" startOffset=\"50%\" side=\"left\" fill=\"currentColor\" text-anchor=\"middle\">det</textPath>\n",
              "    </text>\n",
              "    <path class=\"displacy-arrowhead\" d=\"M2345,529.0 L2337,517.0 2353,517.0\" fill=\"currentColor\"/>\n",
              "</g>\n",
              "\n",
              "<g class=\"displacy-arrow\">\n",
              "    <path class=\"displacy-arc\" id=\"arrow-0f592bd405424995913359fb7a1d483b-0-14\" stroke-width=\"2px\" d=\"M2520,527.0 C2520,264.5 3010.0,264.5 3010.0,527.0\" fill=\"none\" stroke=\"currentColor\"/>\n",
              "    <text dy=\"1.25em\" style=\"font-size: 0.8em; letter-spacing: 1px\">\n",
              "        <textPath xlink:href=\"#arrow-0f592bd405424995913359fb7a1d483b-0-14\" class=\"displacy-label\" startOffset=\"50%\" side=\"left\" fill=\"currentColor\" text-anchor=\"middle\">nsubj</textPath>\n",
              "    </text>\n",
              "    <path class=\"displacy-arrowhead\" d=\"M2520,529.0 L2512,517.0 2528,517.0\" fill=\"currentColor\"/>\n",
              "</g>\n",
              "\n",
              "<g class=\"displacy-arrow\">\n",
              "    <path class=\"displacy-arc\" id=\"arrow-0f592bd405424995913359fb7a1d483b-0-15\" stroke-width=\"2px\" d=\"M2695,527.0 C2695,352.0 3005.0,352.0 3005.0,527.0\" fill=\"none\" stroke=\"currentColor\"/>\n",
              "    <text dy=\"1.25em\" style=\"font-size: 0.8em; letter-spacing: 1px\">\n",
              "        <textPath xlink:href=\"#arrow-0f592bd405424995913359fb7a1d483b-0-15\" class=\"displacy-label\" startOffset=\"50%\" side=\"left\" fill=\"currentColor\" text-anchor=\"middle\">aux</textPath>\n",
              "    </text>\n",
              "    <path class=\"displacy-arrowhead\" d=\"M2695,529.0 L2687,517.0 2703,517.0\" fill=\"currentColor\"/>\n",
              "</g>\n",
              "\n",
              "<g class=\"displacy-arrow\">\n",
              "    <path class=\"displacy-arc\" id=\"arrow-0f592bd405424995913359fb7a1d483b-0-16\" stroke-width=\"2px\" d=\"M2870,527.0 C2870,439.5 3000.0,439.5 3000.0,527.0\" fill=\"none\" stroke=\"currentColor\"/>\n",
              "    <text dy=\"1.25em\" style=\"font-size: 0.8em; letter-spacing: 1px\">\n",
              "        <textPath xlink:href=\"#arrow-0f592bd405424995913359fb7a1d483b-0-16\" class=\"displacy-label\" startOffset=\"50%\" side=\"left\" fill=\"currentColor\" text-anchor=\"middle\">neg</textPath>\n",
              "    </text>\n",
              "    <path class=\"displacy-arrowhead\" d=\"M2870,529.0 L2862,517.0 2878,517.0\" fill=\"currentColor\"/>\n",
              "</g>\n",
              "\n",
              "<g class=\"displacy-arrow\">\n",
              "    <path class=\"displacy-arc\" id=\"arrow-0f592bd405424995913359fb7a1d483b-0-17\" stroke-width=\"2px\" d=\"M3045,527.0 C3045,439.5 3175.0,439.5 3175.0,527.0\" fill=\"none\" stroke=\"currentColor\"/>\n",
              "    <text dy=\"1.25em\" style=\"font-size: 0.8em; letter-spacing: 1px\">\n",
              "        <textPath xlink:href=\"#arrow-0f592bd405424995913359fb7a1d483b-0-17\" class=\"displacy-label\" startOffset=\"50%\" side=\"left\" fill=\"currentColor\" text-anchor=\"middle\">prep</textPath>\n",
              "    </text>\n",
              "    <path class=\"displacy-arrowhead\" d=\"M3175.0,529.0 L3183.0,517.0 3167.0,517.0\" fill=\"currentColor\"/>\n",
              "</g>\n",
              "\n",
              "<g class=\"displacy-arrow\">\n",
              "    <path class=\"displacy-arc\" id=\"arrow-0f592bd405424995913359fb7a1d483b-0-18\" stroke-width=\"2px\" d=\"M3220,527.0 C3220,439.5 3350.0,439.5 3350.0,527.0\" fill=\"none\" stroke=\"currentColor\"/>\n",
              "    <text dy=\"1.25em\" style=\"font-size: 0.8em; letter-spacing: 1px\">\n",
              "        <textPath xlink:href=\"#arrow-0f592bd405424995913359fb7a1d483b-0-18\" class=\"displacy-label\" startOffset=\"50%\" side=\"left\" fill=\"currentColor\" text-anchor=\"middle\">pcomp</textPath>\n",
              "    </text>\n",
              "    <path class=\"displacy-arrowhead\" d=\"M3350.0,529.0 L3358.0,517.0 3342.0,517.0\" fill=\"currentColor\"/>\n",
              "</g>\n",
              "\n",
              "<g class=\"displacy-arrow\">\n",
              "    <path class=\"displacy-arc\" id=\"arrow-0f592bd405424995913359fb7a1d483b-0-19\" stroke-width=\"2px\" d=\"M3045,527.0 C3045,352.0 3530.0,352.0 3530.0,527.0\" fill=\"none\" stroke=\"currentColor\"/>\n",
              "    <text dy=\"1.25em\" style=\"font-size: 0.8em; letter-spacing: 1px\">\n",
              "        <textPath xlink:href=\"#arrow-0f592bd405424995913359fb7a1d483b-0-19\" class=\"displacy-label\" startOffset=\"50%\" side=\"left\" fill=\"currentColor\" text-anchor=\"middle\">cc</textPath>\n",
              "    </text>\n",
              "    <path class=\"displacy-arrowhead\" d=\"M3530.0,529.0 L3538.0,517.0 3522.0,517.0\" fill=\"currentColor\"/>\n",
              "</g>\n",
              "\n",
              "<g class=\"displacy-arrow\">\n",
              "    <path class=\"displacy-arc\" id=\"arrow-0f592bd405424995913359fb7a1d483b-0-20\" stroke-width=\"2px\" d=\"M3045,527.0 C3045,264.5 3710.0,264.5 3710.0,527.0\" fill=\"none\" stroke=\"currentColor\"/>\n",
              "    <text dy=\"1.25em\" style=\"font-size: 0.8em; letter-spacing: 1px\">\n",
              "        <textPath xlink:href=\"#arrow-0f592bd405424995913359fb7a1d483b-0-20\" class=\"displacy-label\" startOffset=\"50%\" side=\"left\" fill=\"currentColor\" text-anchor=\"middle\">conj</textPath>\n",
              "    </text>\n",
              "    <path class=\"displacy-arrowhead\" d=\"M3710.0,529.0 L3718.0,517.0 3702.0,517.0\" fill=\"currentColor\"/>\n",
              "</g>\n",
              "\n",
              "<g class=\"displacy-arrow\">\n",
              "    <path class=\"displacy-arc\" id=\"arrow-0f592bd405424995913359fb7a1d483b-0-21\" stroke-width=\"2px\" d=\"M3745,527.0 C3745,439.5 3875.0,439.5 3875.0,527.0\" fill=\"none\" stroke=\"currentColor\"/>\n",
              "    <text dy=\"1.25em\" style=\"font-size: 0.8em; letter-spacing: 1px\">\n",
              "        <textPath xlink:href=\"#arrow-0f592bd405424995913359fb7a1d483b-0-21\" class=\"displacy-label\" startOffset=\"50%\" side=\"left\" fill=\"currentColor\" text-anchor=\"middle\">acomp</textPath>\n",
              "    </text>\n",
              "    <path class=\"displacy-arrowhead\" d=\"M3875.0,529.0 L3883.0,517.0 3867.0,517.0\" fill=\"currentColor\"/>\n",
              "</g>\n",
              "\n",
              "<g class=\"displacy-arrow\">\n",
              "    <path class=\"displacy-arc\" id=\"arrow-0f592bd405424995913359fb7a1d483b-0-22\" stroke-width=\"2px\" d=\"M3920,527.0 C3920,439.5 4050.0,439.5 4050.0,527.0\" fill=\"none\" stroke=\"currentColor\"/>\n",
              "    <text dy=\"1.25em\" style=\"font-size: 0.8em; letter-spacing: 1px\">\n",
              "        <textPath xlink:href=\"#arrow-0f592bd405424995913359fb7a1d483b-0-22\" class=\"displacy-label\" startOffset=\"50%\" side=\"left\" fill=\"currentColor\" text-anchor=\"middle\">prep</textPath>\n",
              "    </text>\n",
              "    <path class=\"displacy-arrowhead\" d=\"M4050.0,529.0 L4058.0,517.0 4042.0,517.0\" fill=\"currentColor\"/>\n",
              "</g>\n",
              "\n",
              "<g class=\"displacy-arrow\">\n",
              "    <path class=\"displacy-arc\" id=\"arrow-0f592bd405424995913359fb7a1d483b-0-23\" stroke-width=\"2px\" d=\"M4270,527.0 C4270,439.5 4400.0,439.5 4400.0,527.0\" fill=\"none\" stroke=\"currentColor\"/>\n",
              "    <text dy=\"1.25em\" style=\"font-size: 0.8em; letter-spacing: 1px\">\n",
              "        <textPath xlink:href=\"#arrow-0f592bd405424995913359fb7a1d483b-0-23\" class=\"displacy-label\" startOffset=\"50%\" side=\"left\" fill=\"currentColor\" text-anchor=\"middle\">det</textPath>\n",
              "    </text>\n",
              "    <path class=\"displacy-arrowhead\" d=\"M4270,529.0 L4262,517.0 4278,517.0\" fill=\"currentColor\"/>\n",
              "</g>\n",
              "\n",
              "<g class=\"displacy-arrow\">\n",
              "    <path class=\"displacy-arc\" id=\"arrow-0f592bd405424995913359fb7a1d483b-0-24\" stroke-width=\"2px\" d=\"M4095,527.0 C4095,352.0 4405.0,352.0 4405.0,527.0\" fill=\"none\" stroke=\"currentColor\"/>\n",
              "    <text dy=\"1.25em\" style=\"font-size: 0.8em; letter-spacing: 1px\">\n",
              "        <textPath xlink:href=\"#arrow-0f592bd405424995913359fb7a1d483b-0-24\" class=\"displacy-label\" startOffset=\"50%\" side=\"left\" fill=\"currentColor\" text-anchor=\"middle\">pobj</textPath>\n",
              "    </text>\n",
              "    <path class=\"displacy-arrowhead\" d=\"M4405.0,529.0 L4413.0,517.0 4397.0,517.0\" fill=\"currentColor\"/>\n",
              "</g>\n",
              "\n",
              "<g class=\"displacy-arrow\">\n",
              "    <path class=\"displacy-arc\" id=\"arrow-0f592bd405424995913359fb7a1d483b-0-25\" stroke-width=\"2px\" d=\"M4445,527.0 C4445,439.5 4575.0,439.5 4575.0,527.0\" fill=\"none\" stroke=\"currentColor\"/>\n",
              "    <text dy=\"1.25em\" style=\"font-size: 0.8em; letter-spacing: 1px\">\n",
              "        <textPath xlink:href=\"#arrow-0f592bd405424995913359fb7a1d483b-0-25\" class=\"displacy-label\" startOffset=\"50%\" side=\"left\" fill=\"currentColor\" text-anchor=\"middle\">prep</textPath>\n",
              "    </text>\n",
              "    <path class=\"displacy-arrowhead\" d=\"M4575.0,529.0 L4583.0,517.0 4567.0,517.0\" fill=\"currentColor\"/>\n",
              "</g>\n",
              "\n",
              "<g class=\"displacy-arrow\">\n",
              "    <path class=\"displacy-arc\" id=\"arrow-0f592bd405424995913359fb7a1d483b-0-26\" stroke-width=\"2px\" d=\"M4795,527.0 C4795,352.0 5105.0,352.0 5105.0,527.0\" fill=\"none\" stroke=\"currentColor\"/>\n",
              "    <text dy=\"1.25em\" style=\"font-size: 0.8em; letter-spacing: 1px\">\n",
              "        <textPath xlink:href=\"#arrow-0f592bd405424995913359fb7a1d483b-0-26\" class=\"displacy-label\" startOffset=\"50%\" side=\"left\" fill=\"currentColor\" text-anchor=\"middle\">amod</textPath>\n",
              "    </text>\n",
              "    <path class=\"displacy-arrowhead\" d=\"M4795,529.0 L4787,517.0 4803,517.0\" fill=\"currentColor\"/>\n",
              "</g>\n",
              "\n",
              "<g class=\"displacy-arrow\">\n",
              "    <path class=\"displacy-arc\" id=\"arrow-0f592bd405424995913359fb7a1d483b-0-27\" stroke-width=\"2px\" d=\"M4970,527.0 C4970,439.5 5100.0,439.5 5100.0,527.0\" fill=\"none\" stroke=\"currentColor\"/>\n",
              "    <text dy=\"1.25em\" style=\"font-size: 0.8em; letter-spacing: 1px\">\n",
              "        <textPath xlink:href=\"#arrow-0f592bd405424995913359fb7a1d483b-0-27\" class=\"displacy-label\" startOffset=\"50%\" side=\"left\" fill=\"currentColor\" text-anchor=\"middle\">amod</textPath>\n",
              "    </text>\n",
              "    <path class=\"displacy-arrowhead\" d=\"M4970,529.0 L4962,517.0 4978,517.0\" fill=\"currentColor\"/>\n",
              "</g>\n",
              "\n",
              "<g class=\"displacy-arrow\">\n",
              "    <path class=\"displacy-arc\" id=\"arrow-0f592bd405424995913359fb7a1d483b-0-28\" stroke-width=\"2px\" d=\"M4620,527.0 C4620,264.5 5110.0,264.5 5110.0,527.0\" fill=\"none\" stroke=\"currentColor\"/>\n",
              "    <text dy=\"1.25em\" style=\"font-size: 0.8em; letter-spacing: 1px\">\n",
              "        <textPath xlink:href=\"#arrow-0f592bd405424995913359fb7a1d483b-0-28\" class=\"displacy-label\" startOffset=\"50%\" side=\"left\" fill=\"currentColor\" text-anchor=\"middle\">pobj</textPath>\n",
              "    </text>\n",
              "    <path class=\"displacy-arrowhead\" d=\"M5110.0,529.0 L5118.0,517.0 5102.0,517.0\" fill=\"currentColor\"/>\n",
              "</g>\n",
              "\n",
              "<g class=\"displacy-arrow\">\n",
              "    <path class=\"displacy-arc\" id=\"arrow-0f592bd405424995913359fb7a1d483b-0-29\" stroke-width=\"2px\" d=\"M4445,527.0 C4445,177.0 5290.0,177.0 5290.0,527.0\" fill=\"none\" stroke=\"currentColor\"/>\n",
              "    <text dy=\"1.25em\" style=\"font-size: 0.8em; letter-spacing: 1px\">\n",
              "        <textPath xlink:href=\"#arrow-0f592bd405424995913359fb7a1d483b-0-29\" class=\"displacy-label\" startOffset=\"50%\" side=\"left\" fill=\"currentColor\" text-anchor=\"middle\">prep</textPath>\n",
              "    </text>\n",
              "    <path class=\"displacy-arrowhead\" d=\"M5290.0,529.0 L5298.0,517.0 5282.0,517.0\" fill=\"currentColor\"/>\n",
              "</g>\n",
              "\n",
              "<g class=\"displacy-arrow\">\n",
              "    <path class=\"displacy-arc\" id=\"arrow-0f592bd405424995913359fb7a1d483b-0-30\" stroke-width=\"2px\" d=\"M5495,527.0 C5495,439.5 5625.0,439.5 5625.0,527.0\" fill=\"none\" stroke=\"currentColor\"/>\n",
              "    <text dy=\"1.25em\" style=\"font-size: 0.8em; letter-spacing: 1px\">\n",
              "        <textPath xlink:href=\"#arrow-0f592bd405424995913359fb7a1d483b-0-30\" class=\"displacy-label\" startOffset=\"50%\" side=\"left\" fill=\"currentColor\" text-anchor=\"middle\">det</textPath>\n",
              "    </text>\n",
              "    <path class=\"displacy-arrowhead\" d=\"M5495,529.0 L5487,517.0 5503,517.0\" fill=\"currentColor\"/>\n",
              "</g>\n",
              "\n",
              "<g class=\"displacy-arrow\">\n",
              "    <path class=\"displacy-arc\" id=\"arrow-0f592bd405424995913359fb7a1d483b-0-31\" stroke-width=\"2px\" d=\"M5320,527.0 C5320,352.0 5630.0,352.0 5630.0,527.0\" fill=\"none\" stroke=\"currentColor\"/>\n",
              "    <text dy=\"1.25em\" style=\"font-size: 0.8em; letter-spacing: 1px\">\n",
              "        <textPath xlink:href=\"#arrow-0f592bd405424995913359fb7a1d483b-0-31\" class=\"displacy-label\" startOffset=\"50%\" side=\"left\" fill=\"currentColor\" text-anchor=\"middle\">pobj</textPath>\n",
              "    </text>\n",
              "    <path class=\"displacy-arrowhead\" d=\"M5630.0,529.0 L5638.0,517.0 5622.0,517.0\" fill=\"currentColor\"/>\n",
              "</g>\n",
              "\n",
              "<g class=\"displacy-arrow\">\n",
              "    <path class=\"displacy-arc\" id=\"arrow-0f592bd405424995913359fb7a1d483b-0-32\" stroke-width=\"2px\" d=\"M5670,527.0 C5670,439.5 5800.0,439.5 5800.0,527.0\" fill=\"none\" stroke=\"currentColor\"/>\n",
              "    <text dy=\"1.25em\" style=\"font-size: 0.8em; letter-spacing: 1px\">\n",
              "        <textPath xlink:href=\"#arrow-0f592bd405424995913359fb7a1d483b-0-32\" class=\"displacy-label\" startOffset=\"50%\" side=\"left\" fill=\"currentColor\" text-anchor=\"middle\">prep</textPath>\n",
              "    </text>\n",
              "    <path class=\"displacy-arrowhead\" d=\"M5800.0,529.0 L5808.0,517.0 5792.0,517.0\" fill=\"currentColor\"/>\n",
              "</g>\n",
              "\n",
              "<g class=\"displacy-arrow\">\n",
              "    <path class=\"displacy-arc\" id=\"arrow-0f592bd405424995913359fb7a1d483b-0-33\" stroke-width=\"2px\" d=\"M5845,527.0 C5845,439.5 5975.0,439.5 5975.0,527.0\" fill=\"none\" stroke=\"currentColor\"/>\n",
              "    <text dy=\"1.25em\" style=\"font-size: 0.8em; letter-spacing: 1px\">\n",
              "        <textPath xlink:href=\"#arrow-0f592bd405424995913359fb7a1d483b-0-33\" class=\"displacy-label\" startOffset=\"50%\" side=\"left\" fill=\"currentColor\" text-anchor=\"middle\">pobj</textPath>\n",
              "    </text>\n",
              "    <path class=\"displacy-arrowhead\" d=\"M5975.0,529.0 L5983.0,517.0 5967.0,517.0\" fill=\"currentColor\"/>\n",
              "</g>\n",
              "\n",
              "<g class=\"displacy-arrow\">\n",
              "    <path class=\"displacy-arc\" id=\"arrow-0f592bd405424995913359fb7a1d483b-0-34\" stroke-width=\"2px\" d=\"M3045,527.0 C3045,89.5 6170.0,89.5 6170.0,527.0\" fill=\"none\" stroke=\"currentColor\"/>\n",
              "    <text dy=\"1.25em\" style=\"font-size: 0.8em; letter-spacing: 1px\">\n",
              "        <textPath xlink:href=\"#arrow-0f592bd405424995913359fb7a1d483b-0-34\" class=\"displacy-label\" startOffset=\"50%\" side=\"left\" fill=\"currentColor\" text-anchor=\"middle\">cc</textPath>\n",
              "    </text>\n",
              "    <path class=\"displacy-arrowhead\" d=\"M6170.0,529.0 L6178.0,517.0 6162.0,517.0\" fill=\"currentColor\"/>\n",
              "</g>\n",
              "\n",
              "<g class=\"displacy-arrow\">\n",
              "    <path class=\"displacy-arc\" id=\"arrow-0f592bd405424995913359fb7a1d483b-0-35\" stroke-width=\"2px\" d=\"M6370,527.0 C6370,264.5 7210.0,264.5 7210.0,527.0\" fill=\"none\" stroke=\"currentColor\"/>\n",
              "    <text dy=\"1.25em\" style=\"font-size: 0.8em; letter-spacing: 1px\">\n",
              "        <textPath xlink:href=\"#arrow-0f592bd405424995913359fb7a1d483b-0-35\" class=\"displacy-label\" startOffset=\"50%\" side=\"left\" fill=\"currentColor\" text-anchor=\"middle\">prep</textPath>\n",
              "    </text>\n",
              "    <path class=\"displacy-arrowhead\" d=\"M6370,529.0 L6362,517.0 6378,517.0\" fill=\"currentColor\"/>\n",
              "</g>\n",
              "\n",
              "<g class=\"displacy-arrow\">\n",
              "    <path class=\"displacy-arc\" id=\"arrow-0f592bd405424995913359fb7a1d483b-0-36\" stroke-width=\"2px\" d=\"M6545,527.0 C6545,439.5 6675.0,439.5 6675.0,527.0\" fill=\"none\" stroke=\"currentColor\"/>\n",
              "    <text dy=\"1.25em\" style=\"font-size: 0.8em; letter-spacing: 1px\">\n",
              "        <textPath xlink:href=\"#arrow-0f592bd405424995913359fb7a1d483b-0-36\" class=\"displacy-label\" startOffset=\"50%\" side=\"left\" fill=\"currentColor\" text-anchor=\"middle\">amod</textPath>\n",
              "    </text>\n",
              "    <path class=\"displacy-arrowhead\" d=\"M6545,529.0 L6537,517.0 6553,517.0\" fill=\"currentColor\"/>\n",
              "</g>\n",
              "\n",
              "<g class=\"displacy-arrow\">\n",
              "    <path class=\"displacy-arc\" id=\"arrow-0f592bd405424995913359fb7a1d483b-0-37\" stroke-width=\"2px\" d=\"M6370,527.0 C6370,352.0 6680.0,352.0 6680.0,527.0\" fill=\"none\" stroke=\"currentColor\"/>\n",
              "    <text dy=\"1.25em\" style=\"font-size: 0.8em; letter-spacing: 1px\">\n",
              "        <textPath xlink:href=\"#arrow-0f592bd405424995913359fb7a1d483b-0-37\" class=\"displacy-label\" startOffset=\"50%\" side=\"left\" fill=\"currentColor\" text-anchor=\"middle\">pobj</textPath>\n",
              "    </text>\n",
              "    <path class=\"displacy-arrowhead\" d=\"M6680.0,529.0 L6688.0,517.0 6672.0,517.0\" fill=\"currentColor\"/>\n",
              "</g>\n",
              "\n",
              "<g class=\"displacy-arrow\">\n",
              "    <path class=\"displacy-arc\" id=\"arrow-0f592bd405424995913359fb7a1d483b-0-38\" stroke-width=\"2px\" d=\"M6895,527.0 C6895,352.0 7205.0,352.0 7205.0,527.0\" fill=\"none\" stroke=\"currentColor\"/>\n",
              "    <text dy=\"1.25em\" style=\"font-size: 0.8em; letter-spacing: 1px\">\n",
              "        <textPath xlink:href=\"#arrow-0f592bd405424995913359fb7a1d483b-0-38\" class=\"displacy-label\" startOffset=\"50%\" side=\"left\" fill=\"currentColor\" text-anchor=\"middle\">amod</textPath>\n",
              "    </text>\n",
              "    <path class=\"displacy-arrowhead\" d=\"M6895,529.0 L6887,517.0 6903,517.0\" fill=\"currentColor\"/>\n",
              "</g>\n",
              "\n",
              "<g class=\"displacy-arrow\">\n",
              "    <path class=\"displacy-arc\" id=\"arrow-0f592bd405424995913359fb7a1d483b-0-39\" stroke-width=\"2px\" d=\"M7070,527.0 C7070,439.5 7200.0,439.5 7200.0,527.0\" fill=\"none\" stroke=\"currentColor\"/>\n",
              "    <text dy=\"1.25em\" style=\"font-size: 0.8em; letter-spacing: 1px\">\n",
              "        <textPath xlink:href=\"#arrow-0f592bd405424995913359fb7a1d483b-0-39\" class=\"displacy-label\" startOffset=\"50%\" side=\"left\" fill=\"currentColor\" text-anchor=\"middle\">amod</textPath>\n",
              "    </text>\n",
              "    <path class=\"displacy-arrowhead\" d=\"M7070,529.0 L7062,517.0 7078,517.0\" fill=\"currentColor\"/>\n",
              "</g>\n",
              "\n",
              "<g class=\"displacy-arrow\">\n",
              "    <path class=\"displacy-arc\" id=\"arrow-0f592bd405424995913359fb7a1d483b-0-40\" stroke-width=\"2px\" d=\"M3045,527.0 C3045,2.0 7225.0,2.0 7225.0,527.0\" fill=\"none\" stroke=\"currentColor\"/>\n",
              "    <text dy=\"1.25em\" style=\"font-size: 0.8em; letter-spacing: 1px\">\n",
              "        <textPath xlink:href=\"#arrow-0f592bd405424995913359fb7a1d483b-0-40\" class=\"displacy-label\" startOffset=\"50%\" side=\"left\" fill=\"currentColor\" text-anchor=\"middle\">conj</textPath>\n",
              "    </text>\n",
              "    <path class=\"displacy-arrowhead\" d=\"M7225.0,529.0 L7233.0,517.0 7217.0,517.0\" fill=\"currentColor\"/>\n",
              "</g>\n",
              "\n",
              "<g class=\"displacy-arrow\">\n",
              "    <path class=\"displacy-arc\" id=\"arrow-0f592bd405424995913359fb7a1d483b-0-41\" stroke-width=\"2px\" d=\"M7420,527.0 C7420,439.5 7550.0,439.5 7550.0,527.0\" fill=\"none\" stroke=\"currentColor\"/>\n",
              "    <text dy=\"1.25em\" style=\"font-size: 0.8em; letter-spacing: 1px\">\n",
              "        <textPath xlink:href=\"#arrow-0f592bd405424995913359fb7a1d483b-0-41\" class=\"displacy-label\" startOffset=\"50%\" side=\"left\" fill=\"currentColor\" text-anchor=\"middle\">amod</textPath>\n",
              "    </text>\n",
              "    <path class=\"displacy-arrowhead\" d=\"M7420,529.0 L7412,517.0 7428,517.0\" fill=\"currentColor\"/>\n",
              "</g>\n",
              "\n",
              "<g class=\"displacy-arrow\">\n",
              "    <path class=\"displacy-arc\" id=\"arrow-0f592bd405424995913359fb7a1d483b-0-42\" stroke-width=\"2px\" d=\"M7245,527.0 C7245,352.0 7555.0,352.0 7555.0,527.0\" fill=\"none\" stroke=\"currentColor\"/>\n",
              "    <text dy=\"1.25em\" style=\"font-size: 0.8em; letter-spacing: 1px\">\n",
              "        <textPath xlink:href=\"#arrow-0f592bd405424995913359fb7a1d483b-0-42\" class=\"displacy-label\" startOffset=\"50%\" side=\"left\" fill=\"currentColor\" text-anchor=\"middle\">prep</textPath>\n",
              "    </text>\n",
              "    <path class=\"displacy-arrowhead\" d=\"M7555.0,529.0 L7563.0,517.0 7547.0,517.0\" fill=\"currentColor\"/>\n",
              "</g>\n",
              "\n",
              "<g class=\"displacy-arrow\">\n",
              "    <path class=\"displacy-arc\" id=\"arrow-0f592bd405424995913359fb7a1d483b-0-43\" stroke-width=\"2px\" d=\"M7595,527.0 C7595,439.5 7725.0,439.5 7725.0,527.0\" fill=\"none\" stroke=\"currentColor\"/>\n",
              "    <text dy=\"1.25em\" style=\"font-size: 0.8em; letter-spacing: 1px\">\n",
              "        <textPath xlink:href=\"#arrow-0f592bd405424995913359fb7a1d483b-0-43\" class=\"displacy-label\" startOffset=\"50%\" side=\"left\" fill=\"currentColor\" text-anchor=\"middle\">pobj</textPath>\n",
              "    </text>\n",
              "    <path class=\"displacy-arrowhead\" d=\"M7725.0,529.0 L7733.0,517.0 7717.0,517.0\" fill=\"currentColor\"/>\n",
              "</g>\n",
              "\n",
              "<g class=\"displacy-arrow\">\n",
              "    <path class=\"displacy-arc\" id=\"arrow-0f592bd405424995913359fb7a1d483b-0-44\" stroke-width=\"2px\" d=\"M7770,527.0 C7770,439.5 7900.0,439.5 7900.0,527.0\" fill=\"none\" stroke=\"currentColor\"/>\n",
              "    <text dy=\"1.25em\" style=\"font-size: 0.8em; letter-spacing: 1px\">\n",
              "        <textPath xlink:href=\"#arrow-0f592bd405424995913359fb7a1d483b-0-44\" class=\"displacy-label\" startOffset=\"50%\" side=\"left\" fill=\"currentColor\" text-anchor=\"middle\">conj</textPath>\n",
              "    </text>\n",
              "    <path class=\"displacy-arrowhead\" d=\"M7900.0,529.0 L7908.0,517.0 7892.0,517.0\" fill=\"currentColor\"/>\n",
              "</g>\n",
              "\n",
              "<g class=\"displacy-arrow\">\n",
              "    <path class=\"displacy-arc\" id=\"arrow-0f592bd405424995913359fb7a1d483b-0-45\" stroke-width=\"2px\" d=\"M8120,527.0 C8120,352.0 8430.0,352.0 8430.0,527.0\" fill=\"none\" stroke=\"currentColor\"/>\n",
              "    <text dy=\"1.25em\" style=\"font-size: 0.8em; letter-spacing: 1px\">\n",
              "        <textPath xlink:href=\"#arrow-0f592bd405424995913359fb7a1d483b-0-45\" class=\"displacy-label\" startOffset=\"50%\" side=\"left\" fill=\"currentColor\" text-anchor=\"middle\">amod</textPath>\n",
              "    </text>\n",
              "    <path class=\"displacy-arrowhead\" d=\"M8120,529.0 L8112,517.0 8128,517.0\" fill=\"currentColor\"/>\n",
              "</g>\n",
              "\n",
              "<g class=\"displacy-arrow\">\n",
              "    <path class=\"displacy-arc\" id=\"arrow-0f592bd405424995913359fb7a1d483b-0-46\" stroke-width=\"2px\" d=\"M8295,527.0 C8295,439.5 8425.0,439.5 8425.0,527.0\" fill=\"none\" stroke=\"currentColor\"/>\n",
              "    <text dy=\"1.25em\" style=\"font-size: 0.8em; letter-spacing: 1px\">\n",
              "        <textPath xlink:href=\"#arrow-0f592bd405424995913359fb7a1d483b-0-46\" class=\"displacy-label\" startOffset=\"50%\" side=\"left\" fill=\"currentColor\" text-anchor=\"middle\">amod</textPath>\n",
              "    </text>\n",
              "    <path class=\"displacy-arrowhead\" d=\"M8295,529.0 L8287,517.0 8303,517.0\" fill=\"currentColor\"/>\n",
              "</g>\n",
              "\n",
              "<g class=\"displacy-arrow\">\n",
              "    <path class=\"displacy-arc\" id=\"arrow-0f592bd405424995913359fb7a1d483b-0-47\" stroke-width=\"2px\" d=\"M7945,527.0 C7945,264.5 8435.0,264.5 8435.0,527.0\" fill=\"none\" stroke=\"currentColor\"/>\n",
              "    <text dy=\"1.25em\" style=\"font-size: 0.8em; letter-spacing: 1px\">\n",
              "        <textPath xlink:href=\"#arrow-0f592bd405424995913359fb7a1d483b-0-47\" class=\"displacy-label\" startOffset=\"50%\" side=\"left\" fill=\"currentColor\" text-anchor=\"middle\">conj</textPath>\n",
              "    </text>\n",
              "    <path class=\"displacy-arrowhead\" d=\"M8435.0,529.0 L8443.0,517.0 8427.0,517.0\" fill=\"currentColor\"/>\n",
              "</g>\n",
              "\n",
              "<g class=\"displacy-arrow\">\n",
              "    <path class=\"displacy-arc\" id=\"arrow-0f592bd405424995913359fb7a1d483b-0-48\" stroke-width=\"2px\" d=\"M8470,527.0 C8470,439.5 8600.0,439.5 8600.0,527.0\" fill=\"none\" stroke=\"currentColor\"/>\n",
              "    <text dy=\"1.25em\" style=\"font-size: 0.8em; letter-spacing: 1px\">\n",
              "        <textPath xlink:href=\"#arrow-0f592bd405424995913359fb7a1d483b-0-48\" class=\"displacy-label\" startOffset=\"50%\" side=\"left\" fill=\"currentColor\" text-anchor=\"middle\">cc</textPath>\n",
              "    </text>\n",
              "    <path class=\"displacy-arrowhead\" d=\"M8600.0,529.0 L8608.0,517.0 8592.0,517.0\" fill=\"currentColor\"/>\n",
              "</g>\n",
              "\n",
              "<g class=\"displacy-arrow\">\n",
              "    <path class=\"displacy-arc\" id=\"arrow-0f592bd405424995913359fb7a1d483b-0-49\" stroke-width=\"2px\" d=\"M8470,527.0 C8470,352.0 8780.0,352.0 8780.0,527.0\" fill=\"none\" stroke=\"currentColor\"/>\n",
              "    <text dy=\"1.25em\" style=\"font-size: 0.8em; letter-spacing: 1px\">\n",
              "        <textPath xlink:href=\"#arrow-0f592bd405424995913359fb7a1d483b-0-49\" class=\"displacy-label\" startOffset=\"50%\" side=\"left\" fill=\"currentColor\" text-anchor=\"middle\">conj</textPath>\n",
              "    </text>\n",
              "    <path class=\"displacy-arrowhead\" d=\"M8780.0,529.0 L8788.0,517.0 8772.0,517.0\" fill=\"currentColor\"/>\n",
              "</g>\n",
              "\n",
              "<g class=\"displacy-arrow\">\n",
              "    <path class=\"displacy-arc\" id=\"arrow-0f592bd405424995913359fb7a1d483b-0-50\" stroke-width=\"2px\" d=\"M8820,527.0 C8820,439.5 8950.0,439.5 8950.0,527.0\" fill=\"none\" stroke=\"currentColor\"/>\n",
              "    <text dy=\"1.25em\" style=\"font-size: 0.8em; letter-spacing: 1px\">\n",
              "        <textPath xlink:href=\"#arrow-0f592bd405424995913359fb7a1d483b-0-50\" class=\"displacy-label\" startOffset=\"50%\" side=\"left\" fill=\"currentColor\" text-anchor=\"middle\">prep</textPath>\n",
              "    </text>\n",
              "    <path class=\"displacy-arrowhead\" d=\"M8950.0,529.0 L8958.0,517.0 8942.0,517.0\" fill=\"currentColor\"/>\n",
              "</g>\n",
              "\n",
              "<g class=\"displacy-arrow\">\n",
              "    <path class=\"displacy-arc\" id=\"arrow-0f592bd405424995913359fb7a1d483b-0-51\" stroke-width=\"2px\" d=\"M9170,527.0 C9170,439.5 9300.0,439.5 9300.0,527.0\" fill=\"none\" stroke=\"currentColor\"/>\n",
              "    <text dy=\"1.25em\" style=\"font-size: 0.8em; letter-spacing: 1px\">\n",
              "        <textPath xlink:href=\"#arrow-0f592bd405424995913359fb7a1d483b-0-51\" class=\"displacy-label\" startOffset=\"50%\" side=\"left\" fill=\"currentColor\" text-anchor=\"middle\">det</textPath>\n",
              "    </text>\n",
              "    <path class=\"displacy-arrowhead\" d=\"M9170,529.0 L9162,517.0 9178,517.0\" fill=\"currentColor\"/>\n",
              "</g>\n",
              "\n",
              "<g class=\"displacy-arrow\">\n",
              "    <path class=\"displacy-arc\" id=\"arrow-0f592bd405424995913359fb7a1d483b-0-52\" stroke-width=\"2px\" d=\"M8995,527.0 C8995,352.0 9305.0,352.0 9305.0,527.0\" fill=\"none\" stroke=\"currentColor\"/>\n",
              "    <text dy=\"1.25em\" style=\"font-size: 0.8em; letter-spacing: 1px\">\n",
              "        <textPath xlink:href=\"#arrow-0f592bd405424995913359fb7a1d483b-0-52\" class=\"displacy-label\" startOffset=\"50%\" side=\"left\" fill=\"currentColor\" text-anchor=\"middle\">pobj</textPath>\n",
              "    </text>\n",
              "    <path class=\"displacy-arrowhead\" d=\"M9305.0,529.0 L9313.0,517.0 9297.0,517.0\" fill=\"currentColor\"/>\n",
              "</g>\n",
              "\n",
              "<g class=\"displacy-arrow\">\n",
              "    <path class=\"displacy-arc\" id=\"arrow-0f592bd405424995913359fb7a1d483b-0-53\" stroke-width=\"2px\" d=\"M9345,527.0 C9345,439.5 9475.0,439.5 9475.0,527.0\" fill=\"none\" stroke=\"currentColor\"/>\n",
              "    <text dy=\"1.25em\" style=\"font-size: 0.8em; letter-spacing: 1px\">\n",
              "        <textPath xlink:href=\"#arrow-0f592bd405424995913359fb7a1d483b-0-53\" class=\"displacy-label\" startOffset=\"50%\" side=\"left\" fill=\"currentColor\" text-anchor=\"middle\">cc</textPath>\n",
              "    </text>\n",
              "    <path class=\"displacy-arrowhead\" d=\"M9475.0,529.0 L9483.0,517.0 9467.0,517.0\" fill=\"currentColor\"/>\n",
              "</g>\n",
              "\n",
              "<g class=\"displacy-arrow\">\n",
              "    <path class=\"displacy-arc\" id=\"arrow-0f592bd405424995913359fb7a1d483b-0-54\" stroke-width=\"2px\" d=\"M9345,527.0 C9345,352.0 9655.0,352.0 9655.0,527.0\" fill=\"none\" stroke=\"currentColor\"/>\n",
              "    <text dy=\"1.25em\" style=\"font-size: 0.8em; letter-spacing: 1px\">\n",
              "        <textPath xlink:href=\"#arrow-0f592bd405424995913359fb7a1d483b-0-54\" class=\"displacy-label\" startOffset=\"50%\" side=\"left\" fill=\"currentColor\" text-anchor=\"middle\">conj</textPath>\n",
              "    </text>\n",
              "    <path class=\"displacy-arrowhead\" d=\"M9655.0,529.0 L9663.0,517.0 9647.0,517.0\" fill=\"currentColor\"/>\n",
              "</g>\n",
              "</svg></span>"
            ]
          },
          "metadata": {}
        }
      ],
      "source": [
        "from spacy import displacy\n",
        "\n",
        "displacy.render(processed, style=\"dep\", jupyter=True)"
      ]
    },
    {
      "cell_type": "markdown",
      "id": "1ace75e2-942f-4868-8d2b-39c1b196e200",
      "metadata": {
        "tags": [],
        "id": "1ace75e2-942f-4868-8d2b-39c1b196e200"
      },
      "source": [
        "For a multi-sentence text, you can iterate over sentences, then iterate over the tokens in each sentence."
      ]
    },
    {
      "cell_type": "code",
      "execution_count": null,
      "id": "da9f9170-e4da-4bc1-8803-67dd09fd6309",
      "metadata": {
        "tags": [],
        "id": "da9f9170-e4da-4bc1-8803-67dd09fd6309",
        "outputId": "f10d217b-3a44-44aa-9d48-1a6620d3d8ff",
        "colab": {
          "base_uri": "https://localhost:8080/"
        }
      },
      "outputs": [
        {
          "output_type": "stream",
          "name": "stdout",
          "text": [
            "('This', 'PRON') ('is', 'AUX') ('a', 'DET') ('text', 'NOUN') ('.', 'PUNCT') \n",
            "('It', 'PRON') ('has', 'VERB') ('two', 'NUM') ('sentences', 'NOUN') ('.', 'PUNCT') \n"
          ]
        }
      ],
      "source": [
        "text = \"This is a text. It has two sentences.\"\n",
        "textprocessed = spacy_obj(text)\n",
        "for sent in textprocessed.sents:\n",
        "    for token in sent:\n",
        "        print((token.text, token.pos_), end = \" \")\n",
        "    print()"
      ]
    },
    {
      "cell_type": "markdown",
      "id": "08e1a97a-9b3f-44f6-8941-94e52fbf1a90",
      "metadata": {
        "id": "08e1a97a-9b3f-44f6-8941-94e52fbf1a90"
      },
      "source": [
        "spaCy is not the only option for automatic part-of-speech tagging and syntactic analysis. If you work with a language that is not covered by spaCy, or you don't like what spaCy can do for your text domain, look around for other freely available systems."
      ]
    },
    {
      "cell_type": "markdown",
      "id": "01b6b157-f11e-4c50-97f1-16c8a73a03ea",
      "metadata": {
        "id": "01b6b157-f11e-4c50-97f1-16c8a73a03ea"
      },
      "source": [
        "# Text encodings\n",
        "\n",
        "Different languages often use different alphabets. Python can handle different alphabets easily, but you need to pay attention to how your text is *encoded*.\n",
        "\n",
        "Internally, characters are encoded through character numbers. There are different *encodings* that you can use. Some encodings only have a smaller amount of numbers, and can only encode limited numbers of characters. Others use longer numbers, and hence can encode larger numbers of characters.\n",
        "\n",
        "Python by default assumes a *UTF-8* encoding, see https://en.wikipedia.org/wiki/UTF-8\n",
        "\n",
        "This encompasses many languages already, which Python can then display correctly out of the box. If you work with a language whose writing system is not covered by UTF-8, you need to specify the encoding of strings and files explicitly.\n",
        "\n",
        "For more information, see this tutorial, which does a better job of explaining the intricacies of encoding than I ever could: https://realpython.com/python-encodings-guide/\n"
      ]
    },
    {
      "cell_type": "markdown",
      "id": "60ac39c2-f1ae-4326-9593-edfd7765baf0",
      "metadata": {
        "id": "60ac39c2-f1ae-4326-9593-edfd7765baf0"
      },
      "source": [
        "# A few basics about the Python pandas package\n",
        "\n",
        "Python's `pandas` package lets you read spreadsheets into Python. It has functionality to display and search spreadsheets, as well as some (limited) graphing. In the methods it offers, it mimics R's data frames -- which is good, because it gives yuo an easier way to go back and forth between the two languages.\n",
        "\n",
        "We'll work with HOW DO YOU GET A SPREADSHEET FROM UTBOX ONTO colab? inaugural.csv\n",
        "\n",
        "This spreadsheet contains some word counts for US inaugural addresses: the year and the name of the president, the overall word count for each speech, as well as counts for words like \"America\", \"citizens\", or \"freedom\".\n",
        "\n",
        "Microsoft Excel and Apple's Numbers can both export spreadsheets in the \"csv\" format. \"csv\" stands for comma-separated values, because that is what it is: A plain-text file in which each file row corresponds to a spreadsheet row, and columns are separated by commas. Once you have your spreadsheet in this format, reading it into Python is easy:\n"
      ]
    },
    {
      "cell_type": "code",
      "source": [
        "!curl -L https://utexas.box.com/shared/static/icka2txuy94ojc6sjkvjcbc4py7s1l6t --output inaugural.csv"
      ],
      "metadata": {
        "colab": {
          "base_uri": "https://localhost:8080/"
        },
        "id": "BRg9FmjPwCEF",
        "outputId": "2e4c7c26-5da1-405c-c149-e40509e241f8"
      },
      "id": "BRg9FmjPwCEF",
      "execution_count": null,
      "outputs": [
        {
          "output_type": "stream",
          "name": "stdout",
          "text": [
            "  % Total    % Received % Xferd  Average Speed   Time    Time     Time  Current\n",
            "                                 Dload  Upload   Total   Spent    Left  Speed\n",
            "  0     0    0     0    0     0      0      0 --:--:-- --:--:-- --:--:--     0\n",
            "  0     0    0     0    0     0      0      0 --:--:--  0:00:01 --:--:--     0\n",
            "100     4    0     4    0     0      1      0 --:--:--  0:00:02 --:--:--    16\n",
            "100  2439  100  2439    0     0    623      0  0:00:03  0:00:03 --:--:--     0\n"
          ]
        }
      ]
    },
    {
      "cell_type": "code",
      "execution_count": null,
      "id": "bf93f3aa-20c1-4102-90c8-8d1c13709cff",
      "metadata": {
        "tags": [],
        "id": "bf93f3aa-20c1-4102-90c8-8d1c13709cff",
        "outputId": "e451af12-4369-4dd6-8a6a-172091589f87",
        "colab": {
          "base_uri": "https://localhost:8080/",
          "height": 204
        }
      },
      "outputs": [
        {
          "output_type": "execute_result",
          "data": {
            "text/plain": [
              "pandas.core.frame.DataFrame"
            ],
            "text/html": [
              "<div style=\"max-width:800px; border: 1px solid var(--colab-border-color);\"><style>\n",
              "      pre.function-repr-contents {\n",
              "        overflow-x: auto;\n",
              "        padding: 8px 12px;\n",
              "        max-height: 500px;\n",
              "      }\n",
              "\n",
              "      pre.function-repr-contents.function-repr-contents-collapsed {\n",
              "        cursor: pointer;\n",
              "        max-height: 100px;\n",
              "      }\n",
              "    </style>\n",
              "    <pre style=\"white-space: initial; background:\n",
              "         var(--colab-secondary-surface-color); padding: 8px 12px;\n",
              "         border-bottom: 1px solid var(--colab-border-color);\"><b>pandas.core.frame.DataFrame</b><br/>def __init__(data=None, index: Axes | None=None, columns: Axes | None=None, dtype: Dtype | None=None, copy: bool | None=None) -&gt; None</pre><pre class=\"function-repr-contents function-repr-contents-collapsed\" style=\"\"><a class=\"filepath\" style=\"display:none\" href=\"#\">/usr/local/lib/python3.10/dist-packages/pandas/core/frame.py</a>Two-dimensional, size-mutable, potentially heterogeneous tabular data.\n",
              "\n",
              "Data structure also contains labeled axes (rows and columns).\n",
              "Arithmetic operations align on both row and column labels. Can be\n",
              "thought of as a dict-like container for Series objects. The primary\n",
              "pandas data structure.\n",
              "\n",
              "Parameters\n",
              "----------\n",
              "data : ndarray (structured or homogeneous), Iterable, dict, or DataFrame\n",
              "    Dict can contain Series, arrays, constants, dataclass or list-like objects. If\n",
              "    data is a dict, column order follows insertion-order. If a dict contains Series\n",
              "    which have an index defined, it is aligned by its index. This alignment also\n",
              "    occurs if data is a Series or a DataFrame itself. Alignment is done on\n",
              "    Series/DataFrame inputs.\n",
              "\n",
              "    If data is a list of dicts, column order follows insertion-order.\n",
              "\n",
              "index : Index or array-like\n",
              "    Index to use for resulting frame. Will default to RangeIndex if\n",
              "    no indexing information part of input data and no index provided.\n",
              "columns : Index or array-like\n",
              "    Column labels to use for resulting frame when data does not have them,\n",
              "    defaulting to RangeIndex(0, 1, 2, ..., n). If data contains column labels,\n",
              "    will perform column selection instead.\n",
              "dtype : dtype, default None\n",
              "    Data type to force. Only a single dtype is allowed. If None, infer.\n",
              "copy : bool or None, default None\n",
              "    Copy data from inputs.\n",
              "    For dict data, the default of None behaves like ``copy=True``.  For DataFrame\n",
              "    or 2d ndarray input, the default of None behaves like ``copy=False``.\n",
              "    If data is a dict containing one or more Series (possibly of different dtypes),\n",
              "    ``copy=False`` will ensure that these inputs are not copied.\n",
              "\n",
              "    .. versionchanged:: 1.3.0\n",
              "\n",
              "See Also\n",
              "--------\n",
              "DataFrame.from_records : Constructor from tuples, also record arrays.\n",
              "DataFrame.from_dict : From dicts of Series, arrays, or dicts.\n",
              "read_csv : Read a comma-separated values (csv) file into DataFrame.\n",
              "read_table : Read general delimited file into DataFrame.\n",
              "read_clipboard : Read text from clipboard into DataFrame.\n",
              "\n",
              "Notes\n",
              "-----\n",
              "Please reference the :ref:`User Guide &lt;basics.dataframe&gt;` for more information.\n",
              "\n",
              "Examples\n",
              "--------\n",
              "Constructing DataFrame from a dictionary.\n",
              "\n",
              "&gt;&gt;&gt; d = {&#x27;col1&#x27;: [1, 2], &#x27;col2&#x27;: [3, 4]}\n",
              "&gt;&gt;&gt; df = pd.DataFrame(data=d)\n",
              "&gt;&gt;&gt; df\n",
              "   col1  col2\n",
              "0     1     3\n",
              "1     2     4\n",
              "\n",
              "Notice that the inferred dtype is int64.\n",
              "\n",
              "&gt;&gt;&gt; df.dtypes\n",
              "col1    int64\n",
              "col2    int64\n",
              "dtype: object\n",
              "\n",
              "To enforce a single dtype:\n",
              "\n",
              "&gt;&gt;&gt; df = pd.DataFrame(data=d, dtype=np.int8)\n",
              "&gt;&gt;&gt; df.dtypes\n",
              "col1    int8\n",
              "col2    int8\n",
              "dtype: object\n",
              "\n",
              "Constructing DataFrame from a dictionary including Series:\n",
              "\n",
              "&gt;&gt;&gt; d = {&#x27;col1&#x27;: [0, 1, 2, 3], &#x27;col2&#x27;: pd.Series([2, 3], index=[2, 3])}\n",
              "&gt;&gt;&gt; pd.DataFrame(data=d, index=[0, 1, 2, 3])\n",
              "   col1  col2\n",
              "0     0   NaN\n",
              "1     1   NaN\n",
              "2     2   2.0\n",
              "3     3   3.0\n",
              "\n",
              "Constructing DataFrame from numpy ndarray:\n",
              "\n",
              "&gt;&gt;&gt; df2 = pd.DataFrame(np.array([[1, 2, 3], [4, 5, 6], [7, 8, 9]]),\n",
              "...                    columns=[&#x27;a&#x27;, &#x27;b&#x27;, &#x27;c&#x27;])\n",
              "&gt;&gt;&gt; df2\n",
              "   a  b  c\n",
              "0  1  2  3\n",
              "1  4  5  6\n",
              "2  7  8  9\n",
              "\n",
              "Constructing DataFrame from a numpy ndarray that has labeled columns:\n",
              "\n",
              "&gt;&gt;&gt; data = np.array([(1, 2, 3), (4, 5, 6), (7, 8, 9)],\n",
              "...                 dtype=[(&quot;a&quot;, &quot;i4&quot;), (&quot;b&quot;, &quot;i4&quot;), (&quot;c&quot;, &quot;i4&quot;)])\n",
              "&gt;&gt;&gt; df3 = pd.DataFrame(data, columns=[&#x27;c&#x27;, &#x27;a&#x27;])\n",
              "...\n",
              "&gt;&gt;&gt; df3\n",
              "   c  a\n",
              "0  3  1\n",
              "1  6  4\n",
              "2  9  7\n",
              "\n",
              "Constructing DataFrame from dataclass:\n",
              "\n",
              "&gt;&gt;&gt; from dataclasses import make_dataclass\n",
              "&gt;&gt;&gt; Point = make_dataclass(&quot;Point&quot;, [(&quot;x&quot;, int), (&quot;y&quot;, int)])\n",
              "&gt;&gt;&gt; pd.DataFrame([Point(0, 0), Point(0, 3), Point(2, 3)])\n",
              "   x  y\n",
              "0  0  0\n",
              "1  0  3\n",
              "2  2  3\n",
              "\n",
              "Constructing DataFrame from Series/DataFrame:\n",
              "\n",
              "&gt;&gt;&gt; ser = pd.Series([1, 2, 3], index=[&quot;a&quot;, &quot;b&quot;, &quot;c&quot;])\n",
              "&gt;&gt;&gt; df = pd.DataFrame(data=ser, index=[&quot;a&quot;, &quot;c&quot;])\n",
              "&gt;&gt;&gt; df\n",
              "   0\n",
              "a  1\n",
              "c  3\n",
              "\n",
              "&gt;&gt;&gt; df1 = pd.DataFrame([1, 2, 3], index=[&quot;a&quot;, &quot;b&quot;, &quot;c&quot;], columns=[&quot;x&quot;])\n",
              "&gt;&gt;&gt; df2 = pd.DataFrame(data=df1, index=[&quot;a&quot;, &quot;c&quot;])\n",
              "&gt;&gt;&gt; df2\n",
              "   x\n",
              "a  1\n",
              "c  3</pre>\n",
              "      <script>\n",
              "      if (google.colab.kernel.accessAllowed && google.colab.files && google.colab.files.view) {\n",
              "        for (const element of document.querySelectorAll('.filepath')) {\n",
              "          element.style.display = 'block'\n",
              "          element.onclick = (event) => {\n",
              "            event.preventDefault();\n",
              "            event.stopPropagation();\n",
              "            google.colab.files.view(element.textContent, 491);\n",
              "          };\n",
              "        }\n",
              "      }\n",
              "      for (const element of document.querySelectorAll('.function-repr-contents')) {\n",
              "        element.onclick = (event) => {\n",
              "          event.preventDefault();\n",
              "          event.stopPropagation();\n",
              "          element.classList.toggle('function-repr-contents-collapsed');\n",
              "        };\n",
              "      }\n",
              "      </script>\n",
              "      </div>"
            ]
          },
          "metadata": {},
          "execution_count": 69
        }
      ],
      "source": [
        "import pandas as pd\n",
        "\n",
        "df = pd.read_csv(\"inaugural.csv\")\n",
        "type(df)"
      ]
    },
    {
      "cell_type": "markdown",
      "id": "43371b0f-bd8e-4b13-80b9-33a5b351f444",
      "metadata": {
        "id": "43371b0f-bd8e-4b13-80b9-33a5b351f444"
      },
      "source": [
        "Here are a few methods defined for Pandas' DataFrame objects:"
      ]
    },
    {
      "cell_type": "code",
      "execution_count": null,
      "id": "467d166f-6a02-4df6-9f46-30541185a882",
      "metadata": {
        "tags": [],
        "id": "467d166f-6a02-4df6-9f46-30541185a882",
        "outputId": "a94ec0c7-d9d3-4546-fdb5-1a68dbf42b71",
        "colab": {
          "base_uri": "https://localhost:8080/",
          "height": 244
        }
      },
      "outputs": [
        {
          "output_type": "execute_result",
          "data": {
            "text/plain": [
              "   Unnamed: 0   president  year  length  America  citizen  citizens  \\\n",
              "0           1  Washington  1789    1538        0        0         5   \n",
              "1           2  Washington  1793     147        1        0         1   \n",
              "2           3       Adams  1797    2585        5        1         5   \n",
              "3           4   Jefferson  1801    1935        0        0         7   \n",
              "4           5   Jefferson  1805    2384        0        0        10   \n",
              "\n",
              "   democracy  freedom   I  me  duties  \n",
              "0          0        0  23   8       1  \n",
              "1          0        0   6   1       0  \n",
              "2          0        0  13   5       1  \n",
              "3          0        4  21   4       2  \n",
              "4          0        2  18   8       4  "
            ],
            "text/html": [
              "\n",
              "  <div id=\"df-00da9077-d1c4-4d5b-a3c9-cf78967ec49a\" class=\"colab-df-container\">\n",
              "    <div>\n",
              "<style scoped>\n",
              "    .dataframe tbody tr th:only-of-type {\n",
              "        vertical-align: middle;\n",
              "    }\n",
              "\n",
              "    .dataframe tbody tr th {\n",
              "        vertical-align: top;\n",
              "    }\n",
              "\n",
              "    .dataframe thead th {\n",
              "        text-align: right;\n",
              "    }\n",
              "</style>\n",
              "<table border=\"1\" class=\"dataframe\">\n",
              "  <thead>\n",
              "    <tr style=\"text-align: right;\">\n",
              "      <th></th>\n",
              "      <th>Unnamed: 0</th>\n",
              "      <th>president</th>\n",
              "      <th>year</th>\n",
              "      <th>length</th>\n",
              "      <th>America</th>\n",
              "      <th>citizen</th>\n",
              "      <th>citizens</th>\n",
              "      <th>democracy</th>\n",
              "      <th>freedom</th>\n",
              "      <th>I</th>\n",
              "      <th>me</th>\n",
              "      <th>duties</th>\n",
              "    </tr>\n",
              "  </thead>\n",
              "  <tbody>\n",
              "    <tr>\n",
              "      <th>0</th>\n",
              "      <td>1</td>\n",
              "      <td>Washington</td>\n",
              "      <td>1789</td>\n",
              "      <td>1538</td>\n",
              "      <td>0</td>\n",
              "      <td>0</td>\n",
              "      <td>5</td>\n",
              "      <td>0</td>\n",
              "      <td>0</td>\n",
              "      <td>23</td>\n",
              "      <td>8</td>\n",
              "      <td>1</td>\n",
              "    </tr>\n",
              "    <tr>\n",
              "      <th>1</th>\n",
              "      <td>2</td>\n",
              "      <td>Washington</td>\n",
              "      <td>1793</td>\n",
              "      <td>147</td>\n",
              "      <td>1</td>\n",
              "      <td>0</td>\n",
              "      <td>1</td>\n",
              "      <td>0</td>\n",
              "      <td>0</td>\n",
              "      <td>6</td>\n",
              "      <td>1</td>\n",
              "      <td>0</td>\n",
              "    </tr>\n",
              "    <tr>\n",
              "      <th>2</th>\n",
              "      <td>3</td>\n",
              "      <td>Adams</td>\n",
              "      <td>1797</td>\n",
              "      <td>2585</td>\n",
              "      <td>5</td>\n",
              "      <td>1</td>\n",
              "      <td>5</td>\n",
              "      <td>0</td>\n",
              "      <td>0</td>\n",
              "      <td>13</td>\n",
              "      <td>5</td>\n",
              "      <td>1</td>\n",
              "    </tr>\n",
              "    <tr>\n",
              "      <th>3</th>\n",
              "      <td>4</td>\n",
              "      <td>Jefferson</td>\n",
              "      <td>1801</td>\n",
              "      <td>1935</td>\n",
              "      <td>0</td>\n",
              "      <td>0</td>\n",
              "      <td>7</td>\n",
              "      <td>0</td>\n",
              "      <td>4</td>\n",
              "      <td>21</td>\n",
              "      <td>4</td>\n",
              "      <td>2</td>\n",
              "    </tr>\n",
              "    <tr>\n",
              "      <th>4</th>\n",
              "      <td>5</td>\n",
              "      <td>Jefferson</td>\n",
              "      <td>1805</td>\n",
              "      <td>2384</td>\n",
              "      <td>0</td>\n",
              "      <td>0</td>\n",
              "      <td>10</td>\n",
              "      <td>0</td>\n",
              "      <td>2</td>\n",
              "      <td>18</td>\n",
              "      <td>8</td>\n",
              "      <td>4</td>\n",
              "    </tr>\n",
              "  </tbody>\n",
              "</table>\n",
              "</div>\n",
              "    <div class=\"colab-df-buttons\">\n",
              "\n",
              "  <div class=\"colab-df-container\">\n",
              "    <button class=\"colab-df-convert\" onclick=\"convertToInteractive('df-00da9077-d1c4-4d5b-a3c9-cf78967ec49a')\"\n",
              "            title=\"Convert this dataframe to an interactive table.\"\n",
              "            style=\"display:none;\">\n",
              "\n",
              "  <svg xmlns=\"http://www.w3.org/2000/svg\" height=\"24px\" viewBox=\"0 -960 960 960\">\n",
              "    <path d=\"M120-120v-720h720v720H120Zm60-500h600v-160H180v160Zm220 220h160v-160H400v160Zm0 220h160v-160H400v160ZM180-400h160v-160H180v160Zm440 0h160v-160H620v160ZM180-180h160v-160H180v160Zm440 0h160v-160H620v160Z\"/>\n",
              "  </svg>\n",
              "    </button>\n",
              "\n",
              "  <style>\n",
              "    .colab-df-container {\n",
              "      display:flex;\n",
              "      gap: 12px;\n",
              "    }\n",
              "\n",
              "    .colab-df-convert {\n",
              "      background-color: #E8F0FE;\n",
              "      border: none;\n",
              "      border-radius: 50%;\n",
              "      cursor: pointer;\n",
              "      display: none;\n",
              "      fill: #1967D2;\n",
              "      height: 32px;\n",
              "      padding: 0 0 0 0;\n",
              "      width: 32px;\n",
              "    }\n",
              "\n",
              "    .colab-df-convert:hover {\n",
              "      background-color: #E2EBFA;\n",
              "      box-shadow: 0px 1px 2px rgba(60, 64, 67, 0.3), 0px 1px 3px 1px rgba(60, 64, 67, 0.15);\n",
              "      fill: #174EA6;\n",
              "    }\n",
              "\n",
              "    .colab-df-buttons div {\n",
              "      margin-bottom: 4px;\n",
              "    }\n",
              "\n",
              "    [theme=dark] .colab-df-convert {\n",
              "      background-color: #3B4455;\n",
              "      fill: #D2E3FC;\n",
              "    }\n",
              "\n",
              "    [theme=dark] .colab-df-convert:hover {\n",
              "      background-color: #434B5C;\n",
              "      box-shadow: 0px 1px 3px 1px rgba(0, 0, 0, 0.15);\n",
              "      filter: drop-shadow(0px 1px 2px rgba(0, 0, 0, 0.3));\n",
              "      fill: #FFFFFF;\n",
              "    }\n",
              "  </style>\n",
              "\n",
              "    <script>\n",
              "      const buttonEl =\n",
              "        document.querySelector('#df-00da9077-d1c4-4d5b-a3c9-cf78967ec49a button.colab-df-convert');\n",
              "      buttonEl.style.display =\n",
              "        google.colab.kernel.accessAllowed ? 'block' : 'none';\n",
              "\n",
              "      async function convertToInteractive(key) {\n",
              "        const element = document.querySelector('#df-00da9077-d1c4-4d5b-a3c9-cf78967ec49a');\n",
              "        const dataTable =\n",
              "          await google.colab.kernel.invokeFunction('convertToInteractive',\n",
              "                                                    [key], {});\n",
              "        if (!dataTable) return;\n",
              "\n",
              "        const docLinkHtml = 'Like what you see? Visit the ' +\n",
              "          '<a target=\"_blank\" href=https://colab.research.google.com/notebooks/data_table.ipynb>data table notebook</a>'\n",
              "          + ' to learn more about interactive tables.';\n",
              "        element.innerHTML = '';\n",
              "        dataTable['output_type'] = 'display_data';\n",
              "        await google.colab.output.renderOutput(dataTable, element);\n",
              "        const docLink = document.createElement('div');\n",
              "        docLink.innerHTML = docLinkHtml;\n",
              "        element.appendChild(docLink);\n",
              "      }\n",
              "    </script>\n",
              "  </div>\n",
              "\n",
              "\n",
              "<div id=\"df-8d1e57bf-dd9d-451b-8d38-5afe22e3b884\">\n",
              "  <button class=\"colab-df-quickchart\" onclick=\"quickchart('df-8d1e57bf-dd9d-451b-8d38-5afe22e3b884')\"\n",
              "            title=\"Suggest charts\"\n",
              "            style=\"display:none;\">\n",
              "\n",
              "<svg xmlns=\"http://www.w3.org/2000/svg\" height=\"24px\"viewBox=\"0 0 24 24\"\n",
              "     width=\"24px\">\n",
              "    <g>\n",
              "        <path d=\"M19 3H5c-1.1 0-2 .9-2 2v14c0 1.1.9 2 2 2h14c1.1 0 2-.9 2-2V5c0-1.1-.9-2-2-2zM9 17H7v-7h2v7zm4 0h-2V7h2v10zm4 0h-2v-4h2v4z\"/>\n",
              "    </g>\n",
              "</svg>\n",
              "  </button>\n",
              "\n",
              "<style>\n",
              "  .colab-df-quickchart {\n",
              "      --bg-color: #E8F0FE;\n",
              "      --fill-color: #1967D2;\n",
              "      --hover-bg-color: #E2EBFA;\n",
              "      --hover-fill-color: #174EA6;\n",
              "      --disabled-fill-color: #AAA;\n",
              "      --disabled-bg-color: #DDD;\n",
              "  }\n",
              "\n",
              "  [theme=dark] .colab-df-quickchart {\n",
              "      --bg-color: #3B4455;\n",
              "      --fill-color: #D2E3FC;\n",
              "      --hover-bg-color: #434B5C;\n",
              "      --hover-fill-color: #FFFFFF;\n",
              "      --disabled-bg-color: #3B4455;\n",
              "      --disabled-fill-color: #666;\n",
              "  }\n",
              "\n",
              "  .colab-df-quickchart {\n",
              "    background-color: var(--bg-color);\n",
              "    border: none;\n",
              "    border-radius: 50%;\n",
              "    cursor: pointer;\n",
              "    display: none;\n",
              "    fill: var(--fill-color);\n",
              "    height: 32px;\n",
              "    padding: 0;\n",
              "    width: 32px;\n",
              "  }\n",
              "\n",
              "  .colab-df-quickchart:hover {\n",
              "    background-color: var(--hover-bg-color);\n",
              "    box-shadow: 0 1px 2px rgba(60, 64, 67, 0.3), 0 1px 3px 1px rgba(60, 64, 67, 0.15);\n",
              "    fill: var(--button-hover-fill-color);\n",
              "  }\n",
              "\n",
              "  .colab-df-quickchart-complete:disabled,\n",
              "  .colab-df-quickchart-complete:disabled:hover {\n",
              "    background-color: var(--disabled-bg-color);\n",
              "    fill: var(--disabled-fill-color);\n",
              "    box-shadow: none;\n",
              "  }\n",
              "\n",
              "  .colab-df-spinner {\n",
              "    border: 2px solid var(--fill-color);\n",
              "    border-color: transparent;\n",
              "    border-bottom-color: var(--fill-color);\n",
              "    animation:\n",
              "      spin 1s steps(1) infinite;\n",
              "  }\n",
              "\n",
              "  @keyframes spin {\n",
              "    0% {\n",
              "      border-color: transparent;\n",
              "      border-bottom-color: var(--fill-color);\n",
              "      border-left-color: var(--fill-color);\n",
              "    }\n",
              "    20% {\n",
              "      border-color: transparent;\n",
              "      border-left-color: var(--fill-color);\n",
              "      border-top-color: var(--fill-color);\n",
              "    }\n",
              "    30% {\n",
              "      border-color: transparent;\n",
              "      border-left-color: var(--fill-color);\n",
              "      border-top-color: var(--fill-color);\n",
              "      border-right-color: var(--fill-color);\n",
              "    }\n",
              "    40% {\n",
              "      border-color: transparent;\n",
              "      border-right-color: var(--fill-color);\n",
              "      border-top-color: var(--fill-color);\n",
              "    }\n",
              "    60% {\n",
              "      border-color: transparent;\n",
              "      border-right-color: var(--fill-color);\n",
              "    }\n",
              "    80% {\n",
              "      border-color: transparent;\n",
              "      border-right-color: var(--fill-color);\n",
              "      border-bottom-color: var(--fill-color);\n",
              "    }\n",
              "    90% {\n",
              "      border-color: transparent;\n",
              "      border-bottom-color: var(--fill-color);\n",
              "    }\n",
              "  }\n",
              "</style>\n",
              "\n",
              "  <script>\n",
              "    async function quickchart(key) {\n",
              "      const quickchartButtonEl =\n",
              "        document.querySelector('#' + key + ' button');\n",
              "      quickchartButtonEl.disabled = true;  // To prevent multiple clicks.\n",
              "      quickchartButtonEl.classList.add('colab-df-spinner');\n",
              "      try {\n",
              "        const charts = await google.colab.kernel.invokeFunction(\n",
              "            'suggestCharts', [key], {});\n",
              "      } catch (error) {\n",
              "        console.error('Error during call to suggestCharts:', error);\n",
              "      }\n",
              "      quickchartButtonEl.classList.remove('colab-df-spinner');\n",
              "      quickchartButtonEl.classList.add('colab-df-quickchart-complete');\n",
              "    }\n",
              "    (() => {\n",
              "      let quickchartButtonEl =\n",
              "        document.querySelector('#df-8d1e57bf-dd9d-451b-8d38-5afe22e3b884 button');\n",
              "      quickchartButtonEl.style.display =\n",
              "        google.colab.kernel.accessAllowed ? 'block' : 'none';\n",
              "    })();\n",
              "  </script>\n",
              "</div>\n",
              "\n",
              "    </div>\n",
              "  </div>\n"
            ],
            "application/vnd.google.colaboratory.intrinsic+json": {
              "type": "dataframe",
              "variable_name": "df",
              "summary": "{\n  \"name\": \"df\",\n  \"rows\": 56,\n  \"fields\": [\n    {\n      \"column\": \"Unnamed: 0\",\n      \"properties\": {\n        \"dtype\": \"number\",\n        \"std\": 16,\n        \"min\": 1,\n        \"max\": 56,\n        \"num_unique_values\": 56,\n        \"samples\": [\n          1,\n          6,\n          34\n        ],\n        \"semantic_type\": \"\",\n        \"description\": \"\"\n      }\n    },\n    {\n      \"column\": \"president\",\n      \"properties\": {\n        \"dtype\": \"string\",\n        \"num_unique_values\": 34,\n        \"samples\": [\n          \"Garfield\",\n          \"Taft\",\n          \"Johnson\"\n        ],\n        \"semantic_type\": \"\",\n        \"description\": \"\"\n      }\n    },\n    {\n      \"column\": \"year\",\n      \"properties\": {\n        \"dtype\": \"number\",\n        \"std\": 65,\n        \"min\": 1789,\n        \"max\": 2009,\n        \"num_unique_values\": 56,\n        \"samples\": [\n          1789,\n          1809,\n          1921\n        ],\n        \"semantic_type\": \"\",\n        \"description\": \"\"\n      }\n    },\n    {\n      \"column\": \"length\",\n      \"properties\": {\n        \"dtype\": \"number\",\n        \"std\": 1516,\n        \"min\": 147,\n        \"max\": 9165,\n        \"num_unique_values\": 56,\n        \"samples\": [\n          1538,\n          1265,\n          3756\n        ],\n        \"semantic_type\": \"\",\n        \"description\": \"\"\n      }\n    },\n    {\n      \"column\": \"America\",\n      \"properties\": {\n        \"dtype\": \"number\",\n        \"std\": 5,\n        \"min\": 0,\n        \"max\": 21,\n        \"num_unique_values\": 15,\n        \"samples\": [\n          3,\n          19,\n          0\n        ],\n        \"semantic_type\": \"\",\n        \"description\": \"\"\n      }\n    },\n    {\n      \"column\": \"citizen\",\n      \"properties\": {\n        \"dtype\": \"number\",\n        \"std\": 1,\n        \"min\": 0,\n        \"max\": 11,\n        \"num_unique_values\": 6,\n        \"samples\": [\n          0,\n          1,\n          3\n        ],\n        \"semantic_type\": \"\",\n        \"description\": \"\"\n      }\n    },\n    {\n      \"column\": \"citizens\",\n      \"properties\": {\n        \"dtype\": \"number\",\n        \"std\": 4,\n        \"min\": 0,\n        \"max\": 27,\n        \"num_unique_values\": 14,\n        \"samples\": [\n          6,\n          11,\n          5\n        ],\n        \"semantic_type\": \"\",\n        \"description\": \"\"\n      }\n    },\n    {\n      \"column\": \"democracy\",\n      \"properties\": {\n        \"dtype\": \"number\",\n        \"std\": 2,\n        \"min\": 0,\n        \"max\": 9,\n        \"num_unique_values\": 7,\n        \"samples\": [\n          0,\n          1,\n          2\n        ],\n        \"semantic_type\": \"\",\n        \"description\": \"\"\n      }\n    },\n    {\n      \"column\": \"freedom\",\n      \"properties\": {\n        \"dtype\": \"number\",\n        \"std\": 4,\n        \"min\": 0,\n        \"max\": 27,\n        \"num_unique_values\": 14,\n        \"samples\": [\n          10,\n          8,\n          0\n        ],\n        \"semantic_type\": \"\",\n        \"description\": \"\"\n      }\n    },\n    {\n      \"column\": \"I\",\n      \"properties\": {\n        \"dtype\": \"number\",\n        \"std\": 10,\n        \"min\": 0,\n        \"max\": 45,\n        \"num_unique_values\": 28,\n        \"samples\": [\n          12,\n          7,\n          15\n        ],\n        \"semantic_type\": \"\",\n        \"description\": \"\"\n      }\n    },\n    {\n      \"column\": \"me\",\n      \"properties\": {\n        \"dtype\": \"number\",\n        \"std\": 3,\n        \"min\": 0,\n        \"max\": 15,\n        \"num_unique_values\": 10,\n        \"samples\": [\n          15,\n          1,\n          6\n        ],\n        \"semantic_type\": \"\",\n        \"description\": \"\"\n      }\n    },\n    {\n      \"column\": \"duties\",\n      \"properties\": {\n        \"dtype\": \"number\",\n        \"std\": 2,\n        \"min\": 0,\n        \"max\": 9,\n        \"num_unique_values\": 8,\n        \"samples\": [\n          0,\n          3,\n          1\n        ],\n        \"semantic_type\": \"\",\n        \"description\": \"\"\n      }\n    }\n  ]\n}"
            }
          },
          "metadata": {},
          "execution_count": 70
        }
      ],
      "source": [
        "#looking at the top lines of a data frame to get a sense of the data\n",
        "df.head()"
      ]
    },
    {
      "cell_type": "code",
      "execution_count": null,
      "id": "72d348a0-37fa-41d6-b5cd-e43c5cbc08dd",
      "metadata": {
        "tags": [],
        "id": "72d348a0-37fa-41d6-b5cd-e43c5cbc08dd",
        "outputId": "553534f5-670d-4437-f307-9401324ff654",
        "colab": {
          "base_uri": "https://localhost:8080/",
          "height": 398
        }
      },
      "outputs": [
        {
          "output_type": "execute_result",
          "data": {
            "text/plain": [
              "0    Washington\n",
              "1    Washington\n",
              "2         Adams\n",
              "3     Jefferson\n",
              "4     Jefferson\n",
              "5       Madison\n",
              "6       Madison\n",
              "7        Monroe\n",
              "8        Monroe\n",
              "9         Adams\n",
              "Name: president, dtype: object"
            ],
            "text/html": [
              "<div>\n",
              "<style scoped>\n",
              "    .dataframe tbody tr th:only-of-type {\n",
              "        vertical-align: middle;\n",
              "    }\n",
              "\n",
              "    .dataframe tbody tr th {\n",
              "        vertical-align: top;\n",
              "    }\n",
              "\n",
              "    .dataframe thead th {\n",
              "        text-align: right;\n",
              "    }\n",
              "</style>\n",
              "<table border=\"1\" class=\"dataframe\">\n",
              "  <thead>\n",
              "    <tr style=\"text-align: right;\">\n",
              "      <th></th>\n",
              "      <th>president</th>\n",
              "    </tr>\n",
              "  </thead>\n",
              "  <tbody>\n",
              "    <tr>\n",
              "      <th>0</th>\n",
              "      <td>Washington</td>\n",
              "    </tr>\n",
              "    <tr>\n",
              "      <th>1</th>\n",
              "      <td>Washington</td>\n",
              "    </tr>\n",
              "    <tr>\n",
              "      <th>2</th>\n",
              "      <td>Adams</td>\n",
              "    </tr>\n",
              "    <tr>\n",
              "      <th>3</th>\n",
              "      <td>Jefferson</td>\n",
              "    </tr>\n",
              "    <tr>\n",
              "      <th>4</th>\n",
              "      <td>Jefferson</td>\n",
              "    </tr>\n",
              "    <tr>\n",
              "      <th>5</th>\n",
              "      <td>Madison</td>\n",
              "    </tr>\n",
              "    <tr>\n",
              "      <th>6</th>\n",
              "      <td>Madison</td>\n",
              "    </tr>\n",
              "    <tr>\n",
              "      <th>7</th>\n",
              "      <td>Monroe</td>\n",
              "    </tr>\n",
              "    <tr>\n",
              "      <th>8</th>\n",
              "      <td>Monroe</td>\n",
              "    </tr>\n",
              "    <tr>\n",
              "      <th>9</th>\n",
              "      <td>Adams</td>\n",
              "    </tr>\n",
              "  </tbody>\n",
              "</table>\n",
              "</div><br><label><b>dtype:</b> object</label>"
            ]
          },
          "metadata": {},
          "execution_count": 71
        }
      ],
      "source": [
        "# selecting a column with straight brackets and the name of the\n",
        "# column as a string. We show the first 10 entries in the\n",
        "# \"president\" column\n",
        "df[\"president\"][:10]"
      ]
    },
    {
      "cell_type": "code",
      "execution_count": null,
      "id": "884373c0-b703-4418-81fa-ad41de1dcebd",
      "metadata": {
        "tags": [],
        "id": "884373c0-b703-4418-81fa-ad41de1dcebd",
        "outputId": "dd933d9b-1e37-4fd3-d50c-4b70cedfe56c",
        "colab": {
          "base_uri": "https://localhost:8080/"
        }
      },
      "outputs": [
        {
          "output_type": "execute_result",
          "data": {
            "text/plain": [
              "['Washington',\n",
              " 'Washington',\n",
              " 'Adams',\n",
              " 'Jefferson',\n",
              " 'Jefferson',\n",
              " 'Madison',\n",
              " 'Madison',\n",
              " 'Monroe',\n",
              " 'Monroe',\n",
              " 'Adams']"
            ]
          },
          "metadata": {},
          "execution_count": 72
        }
      ],
      "source": [
        "# we can turn a column in to a list\n",
        "list(df[\"president\"])[:10]"
      ]
    },
    {
      "cell_type": "code",
      "execution_count": null,
      "id": "f36a4cf3-63b3-4c7e-8530-5f24710f0972",
      "metadata": {
        "tags": [],
        "id": "f36a4cf3-63b3-4c7e-8530-5f24710f0972",
        "outputId": "d1f3a0b2-e2dd-453b-f350-844c277c86ea",
        "colab": {
          "base_uri": "https://localhost:8080/",
          "height": 181
        }
      },
      "outputs": [
        {
          "output_type": "execute_result",
          "data": {
            "text/plain": [
              "    Unnamed: 0 president  year  length  America  citizen  citizens  democracy  \\\n",
              "13          14  Harrison  1841    9165        0       11        27          4   \n",
              "14          15      Polk  1845    5196        0        0        11          0   \n",
              "30          31      Taft  1909    5846        4        0         6          0   \n",
              "\n",
              "    freedom   I  me  duties  \n",
              "13        6  45  15       5  \n",
              "14        2  24   5       9  \n",
              "30        2  32   2       5  "
            ],
            "text/html": [
              "\n",
              "  <div id=\"df-d737b510-6eac-4525-98d3-e60391136c6f\" class=\"colab-df-container\">\n",
              "    <div>\n",
              "<style scoped>\n",
              "    .dataframe tbody tr th:only-of-type {\n",
              "        vertical-align: middle;\n",
              "    }\n",
              "\n",
              "    .dataframe tbody tr th {\n",
              "        vertical-align: top;\n",
              "    }\n",
              "\n",
              "    .dataframe thead th {\n",
              "        text-align: right;\n",
              "    }\n",
              "</style>\n",
              "<table border=\"1\" class=\"dataframe\">\n",
              "  <thead>\n",
              "    <tr style=\"text-align: right;\">\n",
              "      <th></th>\n",
              "      <th>Unnamed: 0</th>\n",
              "      <th>president</th>\n",
              "      <th>year</th>\n",
              "      <th>length</th>\n",
              "      <th>America</th>\n",
              "      <th>citizen</th>\n",
              "      <th>citizens</th>\n",
              "      <th>democracy</th>\n",
              "      <th>freedom</th>\n",
              "      <th>I</th>\n",
              "      <th>me</th>\n",
              "      <th>duties</th>\n",
              "    </tr>\n",
              "  </thead>\n",
              "  <tbody>\n",
              "    <tr>\n",
              "      <th>13</th>\n",
              "      <td>14</td>\n",
              "      <td>Harrison</td>\n",
              "      <td>1841</td>\n",
              "      <td>9165</td>\n",
              "      <td>0</td>\n",
              "      <td>11</td>\n",
              "      <td>27</td>\n",
              "      <td>4</td>\n",
              "      <td>6</td>\n",
              "      <td>45</td>\n",
              "      <td>15</td>\n",
              "      <td>5</td>\n",
              "    </tr>\n",
              "    <tr>\n",
              "      <th>14</th>\n",
              "      <td>15</td>\n",
              "      <td>Polk</td>\n",
              "      <td>1845</td>\n",
              "      <td>5196</td>\n",
              "      <td>0</td>\n",
              "      <td>0</td>\n",
              "      <td>11</td>\n",
              "      <td>0</td>\n",
              "      <td>2</td>\n",
              "      <td>24</td>\n",
              "      <td>5</td>\n",
              "      <td>9</td>\n",
              "    </tr>\n",
              "    <tr>\n",
              "      <th>30</th>\n",
              "      <td>31</td>\n",
              "      <td>Taft</td>\n",
              "      <td>1909</td>\n",
              "      <td>5846</td>\n",
              "      <td>4</td>\n",
              "      <td>0</td>\n",
              "      <td>6</td>\n",
              "      <td>0</td>\n",
              "      <td>2</td>\n",
              "      <td>32</td>\n",
              "      <td>2</td>\n",
              "      <td>5</td>\n",
              "    </tr>\n",
              "  </tbody>\n",
              "</table>\n",
              "</div>\n",
              "    <div class=\"colab-df-buttons\">\n",
              "\n",
              "  <div class=\"colab-df-container\">\n",
              "    <button class=\"colab-df-convert\" onclick=\"convertToInteractive('df-d737b510-6eac-4525-98d3-e60391136c6f')\"\n",
              "            title=\"Convert this dataframe to an interactive table.\"\n",
              "            style=\"display:none;\">\n",
              "\n",
              "  <svg xmlns=\"http://www.w3.org/2000/svg\" height=\"24px\" viewBox=\"0 -960 960 960\">\n",
              "    <path d=\"M120-120v-720h720v720H120Zm60-500h600v-160H180v160Zm220 220h160v-160H400v160Zm0 220h160v-160H400v160ZM180-400h160v-160H180v160Zm440 0h160v-160H620v160ZM180-180h160v-160H180v160Zm440 0h160v-160H620v160Z\"/>\n",
              "  </svg>\n",
              "    </button>\n",
              "\n",
              "  <style>\n",
              "    .colab-df-container {\n",
              "      display:flex;\n",
              "      gap: 12px;\n",
              "    }\n",
              "\n",
              "    .colab-df-convert {\n",
              "      background-color: #E8F0FE;\n",
              "      border: none;\n",
              "      border-radius: 50%;\n",
              "      cursor: pointer;\n",
              "      display: none;\n",
              "      fill: #1967D2;\n",
              "      height: 32px;\n",
              "      padding: 0 0 0 0;\n",
              "      width: 32px;\n",
              "    }\n",
              "\n",
              "    .colab-df-convert:hover {\n",
              "      background-color: #E2EBFA;\n",
              "      box-shadow: 0px 1px 2px rgba(60, 64, 67, 0.3), 0px 1px 3px 1px rgba(60, 64, 67, 0.15);\n",
              "      fill: #174EA6;\n",
              "    }\n",
              "\n",
              "    .colab-df-buttons div {\n",
              "      margin-bottom: 4px;\n",
              "    }\n",
              "\n",
              "    [theme=dark] .colab-df-convert {\n",
              "      background-color: #3B4455;\n",
              "      fill: #D2E3FC;\n",
              "    }\n",
              "\n",
              "    [theme=dark] .colab-df-convert:hover {\n",
              "      background-color: #434B5C;\n",
              "      box-shadow: 0px 1px 3px 1px rgba(0, 0, 0, 0.15);\n",
              "      filter: drop-shadow(0px 1px 2px rgba(0, 0, 0, 0.3));\n",
              "      fill: #FFFFFF;\n",
              "    }\n",
              "  </style>\n",
              "\n",
              "    <script>\n",
              "      const buttonEl =\n",
              "        document.querySelector('#df-d737b510-6eac-4525-98d3-e60391136c6f button.colab-df-convert');\n",
              "      buttonEl.style.display =\n",
              "        google.colab.kernel.accessAllowed ? 'block' : 'none';\n",
              "\n",
              "      async function convertToInteractive(key) {\n",
              "        const element = document.querySelector('#df-d737b510-6eac-4525-98d3-e60391136c6f');\n",
              "        const dataTable =\n",
              "          await google.colab.kernel.invokeFunction('convertToInteractive',\n",
              "                                                    [key], {});\n",
              "        if (!dataTable) return;\n",
              "\n",
              "        const docLinkHtml = 'Like what you see? Visit the ' +\n",
              "          '<a target=\"_blank\" href=https://colab.research.google.com/notebooks/data_table.ipynb>data table notebook</a>'\n",
              "          + ' to learn more about interactive tables.';\n",
              "        element.innerHTML = '';\n",
              "        dataTable['output_type'] = 'display_data';\n",
              "        await google.colab.output.renderOutput(dataTable, element);\n",
              "        const docLink = document.createElement('div');\n",
              "        docLink.innerHTML = docLinkHtml;\n",
              "        element.appendChild(docLink);\n",
              "      }\n",
              "    </script>\n",
              "  </div>\n",
              "\n",
              "\n",
              "<div id=\"df-0e3083f3-b0f8-4a57-8d11-c0b0f9f7fd96\">\n",
              "  <button class=\"colab-df-quickchart\" onclick=\"quickchart('df-0e3083f3-b0f8-4a57-8d11-c0b0f9f7fd96')\"\n",
              "            title=\"Suggest charts\"\n",
              "            style=\"display:none;\">\n",
              "\n",
              "<svg xmlns=\"http://www.w3.org/2000/svg\" height=\"24px\"viewBox=\"0 0 24 24\"\n",
              "     width=\"24px\">\n",
              "    <g>\n",
              "        <path d=\"M19 3H5c-1.1 0-2 .9-2 2v14c0 1.1.9 2 2 2h14c1.1 0 2-.9 2-2V5c0-1.1-.9-2-2-2zM9 17H7v-7h2v7zm4 0h-2V7h2v10zm4 0h-2v-4h2v4z\"/>\n",
              "    </g>\n",
              "</svg>\n",
              "  </button>\n",
              "\n",
              "<style>\n",
              "  .colab-df-quickchart {\n",
              "      --bg-color: #E8F0FE;\n",
              "      --fill-color: #1967D2;\n",
              "      --hover-bg-color: #E2EBFA;\n",
              "      --hover-fill-color: #174EA6;\n",
              "      --disabled-fill-color: #AAA;\n",
              "      --disabled-bg-color: #DDD;\n",
              "  }\n",
              "\n",
              "  [theme=dark] .colab-df-quickchart {\n",
              "      --bg-color: #3B4455;\n",
              "      --fill-color: #D2E3FC;\n",
              "      --hover-bg-color: #434B5C;\n",
              "      --hover-fill-color: #FFFFFF;\n",
              "      --disabled-bg-color: #3B4455;\n",
              "      --disabled-fill-color: #666;\n",
              "  }\n",
              "\n",
              "  .colab-df-quickchart {\n",
              "    background-color: var(--bg-color);\n",
              "    border: none;\n",
              "    border-radius: 50%;\n",
              "    cursor: pointer;\n",
              "    display: none;\n",
              "    fill: var(--fill-color);\n",
              "    height: 32px;\n",
              "    padding: 0;\n",
              "    width: 32px;\n",
              "  }\n",
              "\n",
              "  .colab-df-quickchart:hover {\n",
              "    background-color: var(--hover-bg-color);\n",
              "    box-shadow: 0 1px 2px rgba(60, 64, 67, 0.3), 0 1px 3px 1px rgba(60, 64, 67, 0.15);\n",
              "    fill: var(--button-hover-fill-color);\n",
              "  }\n",
              "\n",
              "  .colab-df-quickchart-complete:disabled,\n",
              "  .colab-df-quickchart-complete:disabled:hover {\n",
              "    background-color: var(--disabled-bg-color);\n",
              "    fill: var(--disabled-fill-color);\n",
              "    box-shadow: none;\n",
              "  }\n",
              "\n",
              "  .colab-df-spinner {\n",
              "    border: 2px solid var(--fill-color);\n",
              "    border-color: transparent;\n",
              "    border-bottom-color: var(--fill-color);\n",
              "    animation:\n",
              "      spin 1s steps(1) infinite;\n",
              "  }\n",
              "\n",
              "  @keyframes spin {\n",
              "    0% {\n",
              "      border-color: transparent;\n",
              "      border-bottom-color: var(--fill-color);\n",
              "      border-left-color: var(--fill-color);\n",
              "    }\n",
              "    20% {\n",
              "      border-color: transparent;\n",
              "      border-left-color: var(--fill-color);\n",
              "      border-top-color: var(--fill-color);\n",
              "    }\n",
              "    30% {\n",
              "      border-color: transparent;\n",
              "      border-left-color: var(--fill-color);\n",
              "      border-top-color: var(--fill-color);\n",
              "      border-right-color: var(--fill-color);\n",
              "    }\n",
              "    40% {\n",
              "      border-color: transparent;\n",
              "      border-right-color: var(--fill-color);\n",
              "      border-top-color: var(--fill-color);\n",
              "    }\n",
              "    60% {\n",
              "      border-color: transparent;\n",
              "      border-right-color: var(--fill-color);\n",
              "    }\n",
              "    80% {\n",
              "      border-color: transparent;\n",
              "      border-right-color: var(--fill-color);\n",
              "      border-bottom-color: var(--fill-color);\n",
              "    }\n",
              "    90% {\n",
              "      border-color: transparent;\n",
              "      border-bottom-color: var(--fill-color);\n",
              "    }\n",
              "  }\n",
              "</style>\n",
              "\n",
              "  <script>\n",
              "    async function quickchart(key) {\n",
              "      const quickchartButtonEl =\n",
              "        document.querySelector('#' + key + ' button');\n",
              "      quickchartButtonEl.disabled = true;  // To prevent multiple clicks.\n",
              "      quickchartButtonEl.classList.add('colab-df-spinner');\n",
              "      try {\n",
              "        const charts = await google.colab.kernel.invokeFunction(\n",
              "            'suggestCharts', [key], {});\n",
              "      } catch (error) {\n",
              "        console.error('Error during call to suggestCharts:', error);\n",
              "      }\n",
              "      quickchartButtonEl.classList.remove('colab-df-spinner');\n",
              "      quickchartButtonEl.classList.add('colab-df-quickchart-complete');\n",
              "    }\n",
              "    (() => {\n",
              "      let quickchartButtonEl =\n",
              "        document.querySelector('#df-0e3083f3-b0f8-4a57-8d11-c0b0f9f7fd96 button');\n",
              "      quickchartButtonEl.style.display =\n",
              "        google.colab.kernel.accessAllowed ? 'block' : 'none';\n",
              "    })();\n",
              "  </script>\n",
              "</div>\n",
              "\n",
              "    </div>\n",
              "  </div>\n"
            ],
            "application/vnd.google.colaboratory.intrinsic+json": {
              "type": "dataframe",
              "summary": "{\n  \"name\": \"df[df[\\\"length\\\"] > 5000]\",\n  \"rows\": 3,\n  \"fields\": [\n    {\n      \"column\": \"Unnamed: 0\",\n      \"properties\": {\n        \"dtype\": \"number\",\n        \"std\": 9,\n        \"min\": 14,\n        \"max\": 31,\n        \"num_unique_values\": 3,\n        \"samples\": [\n          14,\n          15,\n          31\n        ],\n        \"semantic_type\": \"\",\n        \"description\": \"\"\n      }\n    },\n    {\n      \"column\": \"president\",\n      \"properties\": {\n        \"dtype\": \"string\",\n        \"num_unique_values\": 3,\n        \"samples\": [\n          \"Harrison\",\n          \"Polk\",\n          \"Taft\"\n        ],\n        \"semantic_type\": \"\",\n        \"description\": \"\"\n      }\n    },\n    {\n      \"column\": \"year\",\n      \"properties\": {\n        \"dtype\": \"number\",\n        \"std\": 38,\n        \"min\": 1841,\n        \"max\": 1909,\n        \"num_unique_values\": 3,\n        \"samples\": [\n          1841,\n          1845,\n          1909\n        ],\n        \"semantic_type\": \"\",\n        \"description\": \"\"\n      }\n    },\n    {\n      \"column\": \"length\",\n      \"properties\": {\n        \"dtype\": \"number\",\n        \"std\": 2128,\n        \"min\": 5196,\n        \"max\": 9165,\n        \"num_unique_values\": 3,\n        \"samples\": [\n          9165,\n          5196,\n          5846\n        ],\n        \"semantic_type\": \"\",\n        \"description\": \"\"\n      }\n    },\n    {\n      \"column\": \"America\",\n      \"properties\": {\n        \"dtype\": \"number\",\n        \"std\": 2,\n        \"min\": 0,\n        \"max\": 4,\n        \"num_unique_values\": 2,\n        \"samples\": [\n          4,\n          0\n        ],\n        \"semantic_type\": \"\",\n        \"description\": \"\"\n      }\n    },\n    {\n      \"column\": \"citizen\",\n      \"properties\": {\n        \"dtype\": \"number\",\n        \"std\": 6,\n        \"min\": 0,\n        \"max\": 11,\n        \"num_unique_values\": 2,\n        \"samples\": [\n          0,\n          11\n        ],\n        \"semantic_type\": \"\",\n        \"description\": \"\"\n      }\n    },\n    {\n      \"column\": \"citizens\",\n      \"properties\": {\n        \"dtype\": \"number\",\n        \"std\": 10,\n        \"min\": 6,\n        \"max\": 27,\n        \"num_unique_values\": 3,\n        \"samples\": [\n          27,\n          11\n        ],\n        \"semantic_type\": \"\",\n        \"description\": \"\"\n      }\n    },\n    {\n      \"column\": \"democracy\",\n      \"properties\": {\n        \"dtype\": \"number\",\n        \"std\": 2,\n        \"min\": 0,\n        \"max\": 4,\n        \"num_unique_values\": 2,\n        \"samples\": [\n          0,\n          4\n        ],\n        \"semantic_type\": \"\",\n        \"description\": \"\"\n      }\n    },\n    {\n      \"column\": \"freedom\",\n      \"properties\": {\n        \"dtype\": \"number\",\n        \"std\": 2,\n        \"min\": 2,\n        \"max\": 6,\n        \"num_unique_values\": 2,\n        \"samples\": [\n          2,\n          6\n        ],\n        \"semantic_type\": \"\",\n        \"description\": \"\"\n      }\n    },\n    {\n      \"column\": \"I\",\n      \"properties\": {\n        \"dtype\": \"number\",\n        \"std\": 10,\n        \"min\": 24,\n        \"max\": 45,\n        \"num_unique_values\": 3,\n        \"samples\": [\n          45,\n          24\n        ],\n        \"semantic_type\": \"\",\n        \"description\": \"\"\n      }\n    },\n    {\n      \"column\": \"me\",\n      \"properties\": {\n        \"dtype\": \"number\",\n        \"std\": 6,\n        \"min\": 2,\n        \"max\": 15,\n        \"num_unique_values\": 3,\n        \"samples\": [\n          15,\n          5\n        ],\n        \"semantic_type\": \"\",\n        \"description\": \"\"\n      }\n    },\n    {\n      \"column\": \"duties\",\n      \"properties\": {\n        \"dtype\": \"number\",\n        \"std\": 2,\n        \"min\": 5,\n        \"max\": 9,\n        \"num_unique_values\": 2,\n        \"samples\": [\n          9,\n          5\n        ],\n        \"semantic_type\": \"\",\n        \"description\": \"\"\n      }\n    }\n  ]\n}"
            }
          },
          "metadata": {},
          "execution_count": 73
        }
      ],
      "source": [
        "# R-like selection of rows:\n",
        "# we want the rows where the length of the speech\n",
        "# is more than 5000 words\n",
        "df[df[\"length\"] > 5000]"
      ]
    },
    {
      "cell_type": "code",
      "execution_count": null,
      "id": "2c8a6983-1931-4dee-b9f3-5bbcefc3c218",
      "metadata": {
        "tags": [],
        "id": "2c8a6983-1931-4dee-b9f3-5bbcefc3c218",
        "outputId": "629797e2-f0f5-4161-9f1d-0e72003fd67f",
        "colab": {
          "base_uri": "https://localhost:8080/",
          "height": 448
        }
      },
      "outputs": [
        {
          "output_type": "execute_result",
          "data": {
            "text/plain": [
              "<Axes: >"
            ]
          },
          "metadata": {},
          "execution_count": 74
        },
        {
          "output_type": "display_data",
          "data": {
            "text/plain": [
              "<Figure size 640x480 with 1 Axes>"
            ],
            "image/png": "[encoded data removed]"
          },
          "metadata": {}
        }
      ],
      "source": [
        "%matplotlib inline\n",
        "\n",
        "# graphing:\n",
        "# counts of \"America\" as a line graph\n",
        "df[\"America\"].plot()"
      ]
    },
    {
      "cell_type": "code",
      "execution_count": null,
      "id": "82e84ea5-88a3-4c2e-821e-9dc2a32d0a6e",
      "metadata": {
        "tags": [],
        "id": "82e84ea5-88a3-4c2e-821e-9dc2a32d0a6e",
        "outputId": "ab805cf9-0f66-4668-a77f-e7561f2b16da",
        "colab": {
          "base_uri": "https://localhost:8080/",
          "height": 448
        }
      },
      "outputs": [
        {
          "output_type": "execute_result",
          "data": {
            "text/plain": [
              "<Axes: >"
            ]
          },
          "metadata": {},
          "execution_count": 75
        },
        {
          "output_type": "display_data",
          "data": {
            "text/plain": [
              "<Figure size 640x480 with 1 Axes>"
            ],
            "image/png": "[encoded data removed]"
          },
          "metadata": {}
        }
      ],
      "source": [
        "# lengths of speeches as a histogram\n",
        "df[\"length\"].hist()"
      ]
    },
    {
      "cell_type": "code",
      "execution_count": null,
      "id": "ac61d48d-5c8e-4448-877e-55a1dd3de18f",
      "metadata": {
        "tags": [],
        "id": "ac61d48d-5c8e-4448-877e-55a1dd3de18f",
        "outputId": "93d2743d-f024-4023-d1a0-93d7758f2f8c",
        "colab": {
          "base_uri": "https://localhost:8080/"
        }
      },
      "outputs": [
        {
          "output_type": "stream",
          "name": "stdout",
          "text": [
            "President: Washington year: 1789 counts of 'democracy': 0\n",
            "President: Washington year: 1793 counts of 'democracy': 0\n",
            "President: Adams year: 1797 counts of 'democracy': 0\n",
            "President: Jefferson year: 1801 counts of 'democracy': 0\n",
            "President: Jefferson year: 1805 counts of 'democracy': 0\n",
            "President: Madison year: 1809 counts of 'democracy': 0\n",
            "President: Madison year: 1813 counts of 'democracy': 0\n",
            "President: Monroe year: 1817 counts of 'democracy': 0\n",
            "President: Monroe year: 1821 counts of 'democracy': 0\n",
            "President: Adams year: 1825 counts of 'democracy': 1\n",
            "President: Jackson year: 1829 counts of 'democracy': 0\n",
            "President: Jackson year: 1833 counts of 'democracy': 0\n",
            "President: VanBuren year: 1837 counts of 'democracy': 0\n",
            "President: Harrison year: 1841 counts of 'democracy': 4\n",
            "President: Polk year: 1845 counts of 'democracy': 0\n",
            "President: Taylor year: 1849 counts of 'democracy': 0\n",
            "President: Pierce year: 1853 counts of 'democracy': 0\n",
            "President: Buchanan year: 1857 counts of 'democracy': 0\n",
            "President: Lincoln year: 1861 counts of 'democracy': 0\n",
            "President: Lincoln year: 1865 counts of 'democracy': 0\n",
            "President: Grant year: 1869 counts of 'democracy': 0\n",
            "President: Grant year: 1873 counts of 'democracy': 0\n",
            "President: Hayes year: 1877 counts of 'democracy': 0\n",
            "President: Garfield year: 1881 counts of 'democracy': 0\n",
            "President: Cleveland year: 1885 counts of 'democracy': 0\n",
            "President: Harrison year: 1889 counts of 'democracy': 0\n",
            "President: Cleveland year: 1893 counts of 'democracy': 0\n",
            "President: McKinley year: 1897 counts of 'democracy': 0\n",
            "President: McKinley year: 1901 counts of 'democracy': 0\n",
            "President: Roosevelt year: 1905 counts of 'democracy': 0\n",
            "President: Taft year: 1909 counts of 'democracy': 0\n",
            "President: Wilson year: 1913 counts of 'democracy': 0\n",
            "President: Wilson year: 1917 counts of 'democracy': 0\n",
            "President: Harding year: 1921 counts of 'democracy': 4\n",
            "President: Coolidge year: 1925 counts of 'democracy': 0\n",
            "President: Hoover year: 1929 counts of 'democracy': 1\n",
            "President: Roosevelt year: 1933 counts of 'democracy': 1\n",
            "President: Roosevelt year: 1937 counts of 'democracy': 8\n",
            "President: Roosevelt year: 1941 counts of 'democracy': 9\n",
            "President: Roosevelt year: 1945 counts of 'democracy': 2\n",
            "President: Truman year: 1949 counts of 'democracy': 9\n",
            "President: Eisenhower year: 1953 counts of 'democracy': 0\n",
            "President: Eisenhower year: 1957 counts of 'democracy': 0\n",
            "President: Kennedy year: 1961 counts of 'democracy': 0\n",
            "President: Johnson year: 1965 counts of 'democracy': 1\n",
            "President: Nixon year: 1969 counts of 'democracy': 0\n",
            "President: Nixon year: 1973 counts of 'democracy': 0\n",
            "President: Carter year: 1977 counts of 'democracy': 0\n",
            "President: Reagan year: 1981 counts of 'democracy': 0\n",
            "President: Reagan year: 1985 counts of 'democracy': 2\n",
            "President: Bush year: 1989 counts of 'democracy': 5\n",
            "President: Clinton year: 1993 counts of 'democracy': 4\n",
            "President: Clinton year: 1997 counts of 'democracy': 4\n",
            "President: Bush year: 2001 counts of 'democracy': 2\n",
            "President: Bush year: 2005 counts of 'democracy': 1\n",
            "President: Obama year: 2009 counts of 'democracy': 0\n"
          ]
        }
      ],
      "source": [
        "# iterating through rows of a spreadsheet.\n",
        "# You can access entries in each row\n",
        "# in the same way as in a dictionary.\n",
        "for index, row in df.iterrows():\n",
        "    print(\"President:\", row[\"president\"], \"year:\",  row[\"year\"], \"counts of 'democracy':\", row[\"democracy\"])"
      ]
    },
    {
      "cell_type": "code",
      "execution_count": null,
      "id": "c59c72f8-b088-42f8-9b0b-91d74b22d6bf",
      "metadata": {
        "id": "c59c72f8-b088-42f8-9b0b-91d74b22d6bf"
      },
      "outputs": [],
      "source": []
    }
  ],
  "metadata": {
    "kernelspec": {
      "display_name": "Python 3 (ipykernel)",
      "language": "python",
      "name": "python3"
    },
    "language_info": {
      "codemirror_mode": {
        "name": "ipython",
        "version": 3
      },
      "file_extension": ".py",
      "mimetype": "text/x-python",
      "name": "python",
      "nbconvert_exporter": "python",
      "pygments_lexer": "ipython3",
      "version": "3.9.6"
    },
    "colab": {
      "provenance": [],
      "include_colab_link": true
    }
  },
  "nbformat": 4,
  "nbformat_minor": 5
}